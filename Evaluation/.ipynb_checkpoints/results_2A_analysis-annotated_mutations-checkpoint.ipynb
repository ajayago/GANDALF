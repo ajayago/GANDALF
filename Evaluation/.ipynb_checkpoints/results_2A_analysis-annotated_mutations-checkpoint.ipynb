{
 "cells": [
  {
   "cell_type": "code",
   "execution_count": 1,
   "id": "01184cb1-4cc1-4e87-98b3-55e21950e2e9",
   "metadata": {},
   "outputs": [],
   "source": [
    "import pandas as pd\n",
    "import numpy as np\n",
    "import seaborn as sns\n",
    "import matplotlib.pyplot as plt"
   ]
  },
  {
   "cell_type": "code",
   "execution_count": 2,
   "id": "187db9e7-0973-4680-bfc0-c41f7ef5e3c4",
   "metadata": {},
   "outputs": [],
   "source": [
    "import os"
   ]
  },
  {
   "cell_type": "code",
   "execution_count": 3,
   "id": "2502892b-0e68-486d-91a7-7a0777b004f0",
   "metadata": {},
   "outputs": [],
   "source": [
    "import pickle"
   ]
  },
  {
   "cell_type": "code",
   "execution_count": 4,
   "id": "d03f0aeb-49a8-4a38-a871-67094df9b4d6",
   "metadata": {},
   "outputs": [],
   "source": [
    "from sklearn.metrics import roc_auc_score, average_precision_score"
   ]
  },
  {
   "cell_type": "code",
   "execution_count": 5,
   "id": "fdc1e07f-7010-4d4a-a49b-5671b02151a0",
   "metadata": {},
   "outputs": [],
   "source": [
    "from scipy.stats import pearsonr, spearmanr"
   ]
  },
  {
   "cell_type": "code",
   "execution_count": 6,
   "id": "c14d0467-3b63-4cbf-af27-ebb5623f4672",
   "metadata": {},
   "outputs": [],
   "source": [
    "saved_folder = \"/data/ajayago/papers_data/systematic_assessment/run_files/\""
   ]
  },
  {
   "cell_type": "code",
   "execution_count": 7,
   "id": "a395ab76-bcd0-42d8-bbea-42d51c6aa474",
   "metadata": {},
   "outputs": [],
   "source": [
    "models = [\n",
    "    # \"DruID\",\n",
    "    # \"drug2tme\",\n",
    "    # \"PANCDR\",\n",
    "    # # \"DiffDRP_v3_ablation\",\n",
    "    # # \"DiffDRP_v2_ablation\",\n",
    "    # # \"DiffDRP_v1_ablation\",\n",
    "    # # \"DiffDRP_v0_ablation\",\n",
    "    # \"PREDICT-AI\",\n",
    "    \"DiffDRP_v7\",\n",
    "]"
   ]
  },
  {
   "cell_type": "markdown",
   "id": "1a3642d3-d08e-4c9d-8eaa-0646316c92ea",
   "metadata": {},
   "source": [
    "### Annotated mutations"
   ]
  },
  {
   "cell_type": "code",
   "execution_count": 8,
   "id": "48890df9-c55c-4603-b29e-a4b5d7078200",
   "metadata": {},
   "outputs": [],
   "source": [
    "with open(\"/data/ajayago/papers_data/systematic_assessment/input_types/annotated_mutations/Experiment2/SettingA/patients_fold0_processed.pkl\", \"rb\") as f:\n",
    "    exp2A_fold0 = pickle.load(f)\n",
    "\n",
    "with open(\"/data/ajayago/papers_data/systematic_assessment/input_types/annotated_mutations/Experiment2/SettingA/patients_fold1_processed.pkl\", \"rb\") as f:\n",
    "    exp2A_fold1 = pickle.load(f)\n",
    "\n",
    "with open(\"/data/ajayago/papers_data/systematic_assessment/input_types/annotated_mutations/Experiment2/SettingA/patients_fold2_processed.pkl\", \"rb\") as f:\n",
    "    exp2A_fold2 = pickle.load(f)"
   ]
  },
  {
   "cell_type": "code",
   "execution_count": 9,
   "id": "2e327f39-717f-4ad5-b802-aef60fb968c7",
   "metadata": {},
   "outputs": [
    {
     "data": {
      "text/plain": [
       "array(['BUPARLISIB', 'CISPLATIN', 'FLUOROURACIL', 'GEMCITABINE',\n",
       "       'PACLITAXEL', 'SORAFENIB', 'TEMOZOLOMIDE'], dtype=object)"
      ]
     },
     "execution_count": 9,
     "metadata": {},
     "output_type": "execute_result"
    }
   ],
   "source": [
    "exp2A_fold0[\"test\"].drug_name.unique()"
   ]
  },
  {
   "cell_type": "code",
   "execution_count": 10,
   "id": "95815c8c-4af7-47b7-b315-0598dcf54f72",
   "metadata": {},
   "outputs": [
    {
     "data": {
      "text/plain": [
       "recist\n",
       "0    67\n",
       "1    48\n",
       "Name: count, dtype: int64"
      ]
     },
     "execution_count": 10,
     "metadata": {},
     "output_type": "execute_result"
    }
   ],
   "source": [
    "exp2A_fold0[\"test\"].recist.value_counts()"
   ]
  },
  {
   "cell_type": "code",
   "execution_count": 11,
   "id": "e62b7b84-6617-442a-bdbd-af8232178f63",
   "metadata": {},
   "outputs": [
    {
     "data": {
      "text/plain": [
       "recist\n",
       "0    66\n",
       "1    48\n",
       "Name: count, dtype: int64"
      ]
     },
     "execution_count": 11,
     "metadata": {},
     "output_type": "execute_result"
    }
   ],
   "source": [
    "exp2A_fold1[\"test\"].recist.value_counts()"
   ]
  },
  {
   "cell_type": "code",
   "execution_count": 12,
   "id": "420fc933-e800-466b-9c51-ee65a3e4934e",
   "metadata": {},
   "outputs": [
    {
     "data": {
      "text/plain": [
       "recist\n",
       "0    64\n",
       "1    49\n",
       "Name: count, dtype: int64"
      ]
     },
     "execution_count": 12,
     "metadata": {},
     "output_type": "execute_result"
    }
   ],
   "source": [
    "exp2A_fold2[\"test\"].recist.value_counts()"
   ]
  },
  {
   "cell_type": "code",
   "execution_count": 13,
   "id": "a6c20cdf-21e4-442d-be5f-09ac53d5810b",
   "metadata": {},
   "outputs": [
    {
     "data": {
      "text/plain": [
       "drug_name\n",
       "TEMOZOLOMIDE    30\n",
       "CISPLATIN       27\n",
       "SORAFENIB       15\n",
       "GEMCITABINE     14\n",
       "FLUOROURACIL    12\n",
       "BUPARLISIB       9\n",
       "PACLITAXEL       8\n",
       "Name: count, dtype: int64"
      ]
     },
     "execution_count": 13,
     "metadata": {},
     "output_type": "execute_result"
    }
   ],
   "source": [
    "exp2A_fold0[\"test\"].drug_name.value_counts()"
   ]
  },
  {
   "cell_type": "markdown",
   "id": "c53fc7a9-e218-4333-9ec3-d80373bf42a0",
   "metadata": {},
   "source": [
    "#### Drug based results"
   ]
  },
  {
   "cell_type": "code",
   "execution_count": 14,
   "id": "a3cb694d-c355-4e40-8d35-b853ec130014",
   "metadata": {},
   "outputs": [
    {
     "data": {
      "text/html": [
       "<div>\n",
       "<style scoped>\n",
       "    .dataframe tbody tr th:only-of-type {\n",
       "        vertical-align: middle;\n",
       "    }\n",
       "\n",
       "    .dataframe tbody tr th {\n",
       "        vertical-align: top;\n",
       "    }\n",
       "\n",
       "    .dataframe thead th {\n",
       "        text-align: right;\n",
       "    }\n",
       "</style>\n",
       "<table border=\"1\" class=\"dataframe\">\n",
       "  <thead>\n",
       "    <tr style=\"text-align: right;\">\n",
       "      <th></th>\n",
       "      <th>drug_name</th>\n",
       "      <th>AUROC</th>\n",
       "      <th>AUPRC</th>\n",
       "      <th>pearsonr</th>\n",
       "      <th>pearsonr_pval</th>\n",
       "      <th>method</th>\n",
       "      <th>fold</th>\n",
       "    </tr>\n",
       "  </thead>\n",
       "  <tbody>\n",
       "    <tr>\n",
       "      <th>0</th>\n",
       "      <td>CISPLATIN</td>\n",
       "      <td>0.6304</td>\n",
       "      <td>0.9317</td>\n",
       "      <td>-0.002110</td>\n",
       "      <td>0.991667</td>\n",
       "      <td>DiffDRP_v7</td>\n",
       "      <td>0</td>\n",
       "    </tr>\n",
       "    <tr>\n",
       "      <th>1</th>\n",
       "      <td>FLUOROURACIL</td>\n",
       "      <td>0.6571</td>\n",
       "      <td>0.7406</td>\n",
       "      <td>0.378179</td>\n",
       "      <td>0.225467</td>\n",
       "      <td>DiffDRP_v7</td>\n",
       "      <td>0</td>\n",
       "    </tr>\n",
       "    <tr>\n",
       "      <th>2</th>\n",
       "      <td>GEMCITABINE</td>\n",
       "      <td>0.6667</td>\n",
       "      <td>0.6541</td>\n",
       "      <td>0.325246</td>\n",
       "      <td>0.256503</td>\n",
       "      <td>DiffDRP_v7</td>\n",
       "      <td>0</td>\n",
       "    </tr>\n",
       "    <tr>\n",
       "      <th>3</th>\n",
       "      <td>PACLITAXEL</td>\n",
       "      <td>0.7143</td>\n",
       "      <td>0.9617</td>\n",
       "      <td>-0.075306</td>\n",
       "      <td>0.859334</td>\n",
       "      <td>DiffDRP_v7</td>\n",
       "      <td>0</td>\n",
       "    </tr>\n",
       "    <tr>\n",
       "      <th>4</th>\n",
       "      <td>SORAFENIB</td>\n",
       "      <td>0.1429</td>\n",
       "      <td>0.0769</td>\n",
       "      <td>-0.276780</td>\n",
       "      <td>0.317961</td>\n",
       "      <td>DiffDRP_v7</td>\n",
       "      <td>0</td>\n",
       "    </tr>\n",
       "    <tr>\n",
       "      <th>5</th>\n",
       "      <td>TEMOZOLOMIDE</td>\n",
       "      <td>0.5962</td>\n",
       "      <td>0.2186</td>\n",
       "      <td>0.177669</td>\n",
       "      <td>0.347585</td>\n",
       "      <td>DiffDRP_v7</td>\n",
       "      <td>0</td>\n",
       "    </tr>\n",
       "  </tbody>\n",
       "</table>\n",
       "</div>"
      ],
      "text/plain": [
       "      drug_name   AUROC   AUPRC  pearsonr  pearsonr_pval      method  fold\n",
       "0     CISPLATIN  0.6304  0.9317 -0.002110       0.991667  DiffDRP_v7     0\n",
       "1  FLUOROURACIL  0.6571  0.7406  0.378179       0.225467  DiffDRP_v7     0\n",
       "2   GEMCITABINE  0.6667  0.6541  0.325246       0.256503  DiffDRP_v7     0\n",
       "3    PACLITAXEL  0.7143  0.9617 -0.075306       0.859334  DiffDRP_v7     0\n",
       "4     SORAFENIB  0.1429  0.0769 -0.276780       0.317961  DiffDRP_v7     0\n",
       "5  TEMOZOLOMIDE  0.5962  0.2186  0.177669       0.347585  DiffDRP_v7     0"
      ]
     },
     "execution_count": 14,
     "metadata": {},
     "output_type": "execute_result"
    }
   ],
   "source": [
    "# fold 0\n",
    "fold = 0\n",
    "res_df0 = pd.DataFrame()\n",
    "for m in models:\n",
    "    # print(m)\n",
    "    if \"DiffDRP\" not in m:\n",
    "        path = f\"{saved_folder}/{m}/saved_model_annotated_mutations/prediction_patients_val_corr_2A_ALL_fold{fold}.csv\"\n",
    "    else:\n",
    "        path = f\"/data/ajayago/papers_data/{m}/run_files/saved_model_annotated_mutations/prediction_patients_val_corr_2A_ALL_fold{fold}.csv\"\n",
    "    if os.path.exists(path):\n",
    "        df = pd.read_csv(path, index_col=0)\n",
    "        combined_df = pd.concat([exp2A_fold0[\"test\"][[\"sample_id\", \"drug_name\", \"recist\", \"mappedProject\", \"dataset_name\"]],df], axis=1)\n",
    "        for d in combined_df.drug_name.unique():\n",
    "            if d in [\"FLUOROURACIL\", \"GEMCITABINE\", \"PACLITAXEL\", \"TEMOZOLOMIDE\", \"CISPLATIN\"]:\n",
    "                subset_df = pd.read_csv(f\"/data/ajayago/papers_data/{m}/run_files/saved_model_annotated_mutations/prediction_patients_val_corr_2A_ALL_fold{fold}_tuned4{d}.csv\")\n",
    "            else:\n",
    "                subset_df = combined_df[combined_df.drug_name == d]\n",
    "            if len(subset_df[\"y_true\"].value_counts()) >= 2: # both classes available\n",
    "                auroc_val = round(roc_auc_score(subset_df[\"y_true\"], subset_df[\"y_pred\"]), 4)\n",
    "                auprc_val = round(average_precision_score(subset_df[\"y_true\"], subset_df[\"y_pred\"]), 4)\n",
    "                pearsonr_val = pearsonr(subset_df[\"y_true\"], subset_df[\"y_pred\"])\n",
    "                # print(f\"Drug Name: {d}\")\n",
    "                # print(f\"AUROC = {auroc_val}\")\n",
    "                # print(f\"AUPRC = {auprc_val}\")\n",
    "                res_dict = {\"drug_name\": d, \"AUROC\": auroc_val, \"AUPRC\": auprc_val, \"pearsonr\": pearsonr_val.statistic, \"pearsonr_pval\": pearsonr_val.pvalue, \"method\": m, \"fold\": fold}\n",
    "                res_df0 = res_df0._append(res_dict, ignore_index=True)\n",
    "res_df0"
   ]
  },
  {
   "cell_type": "code",
   "execution_count": 15,
   "id": "ecc0e894-d6a9-4877-9683-ca00771f1266",
   "metadata": {},
   "outputs": [
    {
     "data": {
      "text/html": [
       "<div>\n",
       "<style scoped>\n",
       "    .dataframe tbody tr th:only-of-type {\n",
       "        vertical-align: middle;\n",
       "    }\n",
       "\n",
       "    .dataframe tbody tr th {\n",
       "        vertical-align: top;\n",
       "    }\n",
       "\n",
       "    .dataframe thead th {\n",
       "        text-align: right;\n",
       "    }\n",
       "</style>\n",
       "<table border=\"1\" class=\"dataframe\">\n",
       "  <thead>\n",
       "    <tr style=\"text-align: right;\">\n",
       "      <th>drug_name</th>\n",
       "      <th>CISPLATIN</th>\n",
       "      <th>FLUOROURACIL</th>\n",
       "      <th>GEMCITABINE</th>\n",
       "      <th>PACLITAXEL</th>\n",
       "      <th>SORAFENIB</th>\n",
       "      <th>TEMOZOLOMIDE</th>\n",
       "    </tr>\n",
       "    <tr>\n",
       "      <th>method</th>\n",
       "      <th></th>\n",
       "      <th></th>\n",
       "      <th></th>\n",
       "      <th></th>\n",
       "      <th></th>\n",
       "      <th></th>\n",
       "    </tr>\n",
       "  </thead>\n",
       "  <tbody>\n",
       "    <tr>\n",
       "      <th>DiffDRP_v7</th>\n",
       "      <td>0.6304</td>\n",
       "      <td>0.6571</td>\n",
       "      <td>0.6667</td>\n",
       "      <td>0.7143</td>\n",
       "      <td>0.1429</td>\n",
       "      <td>0.5962</td>\n",
       "    </tr>\n",
       "  </tbody>\n",
       "</table>\n",
       "</div>"
      ],
      "text/plain": [
       "drug_name   CISPLATIN  FLUOROURACIL  GEMCITABINE  PACLITAXEL  SORAFENIB  \\\n",
       "method                                                                    \n",
       "DiffDRP_v7     0.6304        0.6571       0.6667      0.7143     0.1429   \n",
       "\n",
       "drug_name   TEMOZOLOMIDE  \n",
       "method                    \n",
       "DiffDRP_v7        0.5962  "
      ]
     },
     "execution_count": 15,
     "metadata": {},
     "output_type": "execute_result"
    }
   ],
   "source": [
    "res_df0.pivot_table(index=\"method\", values=\"AUROC\", columns=\"drug_name\", aggfunc=\"mean\") # AUROC"
   ]
  },
  {
   "cell_type": "code",
   "execution_count": 16,
   "id": "eb3dbd2a-63f2-4e65-ae04-69dea24c9d57",
   "metadata": {},
   "outputs": [
    {
     "data": {
      "text/html": [
       "<div>\n",
       "<style scoped>\n",
       "    .dataframe tbody tr th:only-of-type {\n",
       "        vertical-align: middle;\n",
       "    }\n",
       "\n",
       "    .dataframe tbody tr th {\n",
       "        vertical-align: top;\n",
       "    }\n",
       "\n",
       "    .dataframe thead th {\n",
       "        text-align: right;\n",
       "    }\n",
       "</style>\n",
       "<table border=\"1\" class=\"dataframe\">\n",
       "  <thead>\n",
       "    <tr style=\"text-align: right;\">\n",
       "      <th>drug_name</th>\n",
       "      <th>CISPLATIN</th>\n",
       "      <th>FLUOROURACIL</th>\n",
       "      <th>GEMCITABINE</th>\n",
       "      <th>PACLITAXEL</th>\n",
       "      <th>SORAFENIB</th>\n",
       "      <th>TEMOZOLOMIDE</th>\n",
       "    </tr>\n",
       "    <tr>\n",
       "      <th>method</th>\n",
       "      <th></th>\n",
       "      <th></th>\n",
       "      <th></th>\n",
       "      <th></th>\n",
       "      <th></th>\n",
       "      <th></th>\n",
       "    </tr>\n",
       "  </thead>\n",
       "  <tbody>\n",
       "    <tr>\n",
       "      <th>DiffDRP_v7</th>\n",
       "      <td>0.9317</td>\n",
       "      <td>0.7406</td>\n",
       "      <td>0.6541</td>\n",
       "      <td>0.9617</td>\n",
       "      <td>0.0769</td>\n",
       "      <td>0.2186</td>\n",
       "    </tr>\n",
       "  </tbody>\n",
       "</table>\n",
       "</div>"
      ],
      "text/plain": [
       "drug_name   CISPLATIN  FLUOROURACIL  GEMCITABINE  PACLITAXEL  SORAFENIB  \\\n",
       "method                                                                    \n",
       "DiffDRP_v7     0.9317        0.7406       0.6541      0.9617     0.0769   \n",
       "\n",
       "drug_name   TEMOZOLOMIDE  \n",
       "method                    \n",
       "DiffDRP_v7        0.2186  "
      ]
     },
     "execution_count": 16,
     "metadata": {},
     "output_type": "execute_result"
    }
   ],
   "source": [
    "res_df0.pivot_table(index=\"method\", values=\"AUPRC\", columns=\"drug_name\") # AUPRC"
   ]
  },
  {
   "cell_type": "code",
   "execution_count": 17,
   "id": "83a1f503-b4a4-480a-9bbc-8efa64cd26b1",
   "metadata": {},
   "outputs": [
    {
     "data": {
      "text/plain": [
       "drug_name     recist\n",
       "TEMOZOLOMIDE  0         26\n",
       "CISPLATIN     1         23\n",
       "SORAFENIB     0         14\n",
       "BUPARLISIB    0          9\n",
       "GEMCITABINE   0          8\n",
       "FLUOROURACIL  1          7\n",
       "PACLITAXEL    1          7\n",
       "GEMCITABINE   1          6\n",
       "FLUOROURACIL  0          5\n",
       "CISPLATIN     0          4\n",
       "TEMOZOLOMIDE  1          4\n",
       "PACLITAXEL    0          1\n",
       "SORAFENIB     1          1\n",
       "Name: count, dtype: int64"
      ]
     },
     "execution_count": 17,
     "metadata": {},
     "output_type": "execute_result"
    }
   ],
   "source": [
    "exp2A_fold0[\"test\"][[\"sample_id\", \"drug_name\", \"recist\", \"mappedProject\", \"dataset_name\"]][[\"drug_name\", \"recist\"]].value_counts()"
   ]
  },
  {
   "cell_type": "code",
   "execution_count": 18,
   "id": "a96d2b0e-f204-4d4b-97da-3c6deb783490",
   "metadata": {},
   "outputs": [
    {
     "data": {
      "text/html": [
       "<div>\n",
       "<style scoped>\n",
       "    .dataframe tbody tr th:only-of-type {\n",
       "        vertical-align: middle;\n",
       "    }\n",
       "\n",
       "    .dataframe tbody tr th {\n",
       "        vertical-align: top;\n",
       "    }\n",
       "\n",
       "    .dataframe thead th {\n",
       "        text-align: right;\n",
       "    }\n",
       "</style>\n",
       "<table border=\"1\" class=\"dataframe\">\n",
       "  <thead>\n",
       "    <tr style=\"text-align: right;\">\n",
       "      <th></th>\n",
       "      <th>drug_name</th>\n",
       "      <th>AUROC</th>\n",
       "      <th>AUPRC</th>\n",
       "      <th>pearsonr</th>\n",
       "      <th>pearsonr_pval</th>\n",
       "      <th>method</th>\n",
       "      <th>fold</th>\n",
       "    </tr>\n",
       "  </thead>\n",
       "  <tbody>\n",
       "    <tr>\n",
       "      <th>0</th>\n",
       "      <td>BUPARLISIB</td>\n",
       "      <td>0.8750</td>\n",
       "      <td>0.5000</td>\n",
       "      <td>0.264694</td>\n",
       "      <td>0.491270</td>\n",
       "      <td>DiffDRP_v7</td>\n",
       "      <td>1</td>\n",
       "    </tr>\n",
       "    <tr>\n",
       "      <th>1</th>\n",
       "      <td>CISPLATIN</td>\n",
       "      <td>0.6058</td>\n",
       "      <td>0.9279</td>\n",
       "      <td>0.059161</td>\n",
       "      <td>0.756149</td>\n",
       "      <td>DiffDRP_v7</td>\n",
       "      <td>1</td>\n",
       "    </tr>\n",
       "    <tr>\n",
       "      <th>2</th>\n",
       "      <td>FLUOROURACIL</td>\n",
       "      <td>0.7857</td>\n",
       "      <td>0.9038</td>\n",
       "      <td>0.428056</td>\n",
       "      <td>0.189044</td>\n",
       "      <td>DiffDRP_v7</td>\n",
       "      <td>1</td>\n",
       "    </tr>\n",
       "    <tr>\n",
       "      <th>3</th>\n",
       "      <td>GEMCITABINE</td>\n",
       "      <td>0.5417</td>\n",
       "      <td>0.3889</td>\n",
       "      <td>0.108924</td>\n",
       "      <td>0.749881</td>\n",
       "      <td>DiffDRP_v7</td>\n",
       "      <td>1</td>\n",
       "    </tr>\n",
       "    <tr>\n",
       "      <th>4</th>\n",
       "      <td>PACLITAXEL</td>\n",
       "      <td>0.6875</td>\n",
       "      <td>0.9294</td>\n",
       "      <td>0.224748</td>\n",
       "      <td>0.532454</td>\n",
       "      <td>DiffDRP_v7</td>\n",
       "      <td>1</td>\n",
       "    </tr>\n",
       "    <tr>\n",
       "      <th>5</th>\n",
       "      <td>TEMOZOLOMIDE</td>\n",
       "      <td>0.4568</td>\n",
       "      <td>0.1217</td>\n",
       "      <td>-0.103966</td>\n",
       "      <td>0.584561</td>\n",
       "      <td>DiffDRP_v7</td>\n",
       "      <td>1</td>\n",
       "    </tr>\n",
       "  </tbody>\n",
       "</table>\n",
       "</div>"
      ],
      "text/plain": [
       "      drug_name   AUROC   AUPRC  pearsonr  pearsonr_pval      method  fold\n",
       "0    BUPARLISIB  0.8750  0.5000  0.264694       0.491270  DiffDRP_v7     1\n",
       "1     CISPLATIN  0.6058  0.9279  0.059161       0.756149  DiffDRP_v7     1\n",
       "2  FLUOROURACIL  0.7857  0.9038  0.428056       0.189044  DiffDRP_v7     1\n",
       "3   GEMCITABINE  0.5417  0.3889  0.108924       0.749881  DiffDRP_v7     1\n",
       "4    PACLITAXEL  0.6875  0.9294  0.224748       0.532454  DiffDRP_v7     1\n",
       "5  TEMOZOLOMIDE  0.4568  0.1217 -0.103966       0.584561  DiffDRP_v7     1"
      ]
     },
     "execution_count": 18,
     "metadata": {},
     "output_type": "execute_result"
    }
   ],
   "source": [
    "# fold 1\n",
    "fold = 1\n",
    "res_df1 = pd.DataFrame()\n",
    "for m in models:\n",
    "    # print(m)\n",
    "    if \"DiffDRP\" not in m:\n",
    "        path = f\"{saved_folder}/{m}/saved_model_annotated_mutations/prediction_patients_val_corr_2A_ALL_fold{fold}.csv\"\n",
    "    else:\n",
    "        path = f\"/data/ajayago/papers_data/{m}/run_files/saved_model_annotated_mutations/prediction_patients_val_corr_2A_ALL_fold{fold}.csv\"\n",
    "    if os.path.exists(path):\n",
    "        df = pd.read_csv(path, index_col=0)\n",
    "        combined_df = pd.concat([exp2A_fold1[\"test\"][[\"sample_id\", \"drug_name\", \"recist\", \"mappedProject\", \"dataset_name\"]],df], axis=1)\n",
    "        for d in combined_df.drug_name.unique():\n",
    "            if d in [\"FLUOROURACIL\", \"GEMCITABINE\", \"PACLITAXEL\", \"TEMOZOLOMIDE\", \"CISPLATIN\"]:\n",
    "                subset_df = pd.read_csv(f\"/data/ajayago/papers_data/{m}/run_files/saved_model_annotated_mutations/prediction_patients_val_corr_2A_ALL_fold{fold}_tuned4{d}.csv\")\n",
    "            else:\n",
    "                subset_df = combined_df[combined_df.drug_name == d]\n",
    "            if len(subset_df[\"y_true\"].value_counts()) >= 2: # both classes available\n",
    "                auroc_val = round(roc_auc_score(subset_df[\"y_true\"], subset_df[\"y_pred\"]), 4)\n",
    "                auprc_val = round(average_precision_score(subset_df[\"y_true\"], subset_df[\"y_pred\"]), 4)\n",
    "                pearsonr_val = pearsonr(subset_df[\"y_true\"], subset_df[\"y_pred\"])\n",
    "                # print(f\"Drug Name: {d}\")\n",
    "                # print(f\"AUROC = {auroc_val}\")\n",
    "                # print(f\"AUPRC = {auprc_val}\")\n",
    "                res_dict = {\"drug_name\": d, \"AUROC\": auroc_val, \"AUPRC\": auprc_val, \"pearsonr\": pearsonr_val.statistic, \"pearsonr_pval\": pearsonr_val.pvalue, \"method\": m, \"fold\": fold}\n",
    "                res_df1 = res_df1._append(res_dict, ignore_index=True)\n",
    "res_df1\n",
    "            "
   ]
  },
  {
   "cell_type": "code",
   "execution_count": 19,
   "id": "8b1f37a5-162d-4d73-8003-fdc3a41e8a76",
   "metadata": {},
   "outputs": [
    {
     "data": {
      "text/html": [
       "<div>\n",
       "<style scoped>\n",
       "    .dataframe tbody tr th:only-of-type {\n",
       "        vertical-align: middle;\n",
       "    }\n",
       "\n",
       "    .dataframe tbody tr th {\n",
       "        vertical-align: top;\n",
       "    }\n",
       "\n",
       "    .dataframe thead th {\n",
       "        text-align: right;\n",
       "    }\n",
       "</style>\n",
       "<table border=\"1\" class=\"dataframe\">\n",
       "  <thead>\n",
       "    <tr style=\"text-align: right;\">\n",
       "      <th>drug_name</th>\n",
       "      <th>BUPARLISIB</th>\n",
       "      <th>CISPLATIN</th>\n",
       "      <th>FLUOROURACIL</th>\n",
       "      <th>GEMCITABINE</th>\n",
       "      <th>PACLITAXEL</th>\n",
       "      <th>TEMOZOLOMIDE</th>\n",
       "    </tr>\n",
       "    <tr>\n",
       "      <th>method</th>\n",
       "      <th></th>\n",
       "      <th></th>\n",
       "      <th></th>\n",
       "      <th></th>\n",
       "      <th></th>\n",
       "      <th></th>\n",
       "    </tr>\n",
       "  </thead>\n",
       "  <tbody>\n",
       "    <tr>\n",
       "      <th>DiffDRP_v7</th>\n",
       "      <td>0.875</td>\n",
       "      <td>0.6058</td>\n",
       "      <td>0.7857</td>\n",
       "      <td>0.5417</td>\n",
       "      <td>0.6875</td>\n",
       "      <td>0.4568</td>\n",
       "    </tr>\n",
       "  </tbody>\n",
       "</table>\n",
       "</div>"
      ],
      "text/plain": [
       "drug_name   BUPARLISIB  CISPLATIN  FLUOROURACIL  GEMCITABINE  PACLITAXEL  \\\n",
       "method                                                                     \n",
       "DiffDRP_v7       0.875     0.6058        0.7857       0.5417      0.6875   \n",
       "\n",
       "drug_name   TEMOZOLOMIDE  \n",
       "method                    \n",
       "DiffDRP_v7        0.4568  "
      ]
     },
     "execution_count": 19,
     "metadata": {},
     "output_type": "execute_result"
    }
   ],
   "source": [
    "res_df1.pivot_table(index=\"method\", values=\"AUROC\", columns=\"drug_name\") # AUROC"
   ]
  },
  {
   "cell_type": "code",
   "execution_count": 20,
   "id": "588b33aa-002c-4ae5-9bd6-f1b8fb4a96e7",
   "metadata": {},
   "outputs": [
    {
     "data": {
      "text/html": [
       "<div>\n",
       "<style scoped>\n",
       "    .dataframe tbody tr th:only-of-type {\n",
       "        vertical-align: middle;\n",
       "    }\n",
       "\n",
       "    .dataframe tbody tr th {\n",
       "        vertical-align: top;\n",
       "    }\n",
       "\n",
       "    .dataframe thead th {\n",
       "        text-align: right;\n",
       "    }\n",
       "</style>\n",
       "<table border=\"1\" class=\"dataframe\">\n",
       "  <thead>\n",
       "    <tr style=\"text-align: right;\">\n",
       "      <th>drug_name</th>\n",
       "      <th>BUPARLISIB</th>\n",
       "      <th>CISPLATIN</th>\n",
       "      <th>FLUOROURACIL</th>\n",
       "      <th>GEMCITABINE</th>\n",
       "      <th>PACLITAXEL</th>\n",
       "      <th>TEMOZOLOMIDE</th>\n",
       "    </tr>\n",
       "    <tr>\n",
       "      <th>method</th>\n",
       "      <th></th>\n",
       "      <th></th>\n",
       "      <th></th>\n",
       "      <th></th>\n",
       "      <th></th>\n",
       "      <th></th>\n",
       "    </tr>\n",
       "  </thead>\n",
       "  <tbody>\n",
       "    <tr>\n",
       "      <th>DiffDRP_v7</th>\n",
       "      <td>0.5</td>\n",
       "      <td>0.9279</td>\n",
       "      <td>0.9038</td>\n",
       "      <td>0.3889</td>\n",
       "      <td>0.9294</td>\n",
       "      <td>0.1217</td>\n",
       "    </tr>\n",
       "  </tbody>\n",
       "</table>\n",
       "</div>"
      ],
      "text/plain": [
       "drug_name   BUPARLISIB  CISPLATIN  FLUOROURACIL  GEMCITABINE  PACLITAXEL  \\\n",
       "method                                                                     \n",
       "DiffDRP_v7         0.5     0.9279        0.9038       0.3889      0.9294   \n",
       "\n",
       "drug_name   TEMOZOLOMIDE  \n",
       "method                    \n",
       "DiffDRP_v7        0.1217  "
      ]
     },
     "execution_count": 20,
     "metadata": {},
     "output_type": "execute_result"
    }
   ],
   "source": [
    "res_df1.pivot_table(index=\"method\", values=\"AUPRC\", columns=\"drug_name\") # AUPRC"
   ]
  },
  {
   "cell_type": "code",
   "execution_count": 21,
   "id": "5022e31a-562e-49aa-b01b-a76ca351bf89",
   "metadata": {},
   "outputs": [
    {
     "data": {
      "text/plain": [
       "drug_name     recist\n",
       "TEMOZOLOMIDE  0         27\n",
       "CISPLATIN     1         26\n",
       "SORAFENIB     0         13\n",
       "BUPARLISIB    0          8\n",
       "GEMCITABINE   0          8\n",
       "PACLITAXEL    1          8\n",
       "FLUOROURACIL  1          7\n",
       "CISPLATIN     0          4\n",
       "FLUOROURACIL  0          4\n",
       "TEMOZOLOMIDE  1          3\n",
       "GEMCITABINE   1          3\n",
       "PACLITAXEL    0          2\n",
       "BUPARLISIB    1          1\n",
       "Name: count, dtype: int64"
      ]
     },
     "execution_count": 21,
     "metadata": {},
     "output_type": "execute_result"
    }
   ],
   "source": [
    "exp2A_fold1[\"test\"][[\"sample_id\", \"drug_name\", \"recist\", \"mappedProject\", \"dataset_name\"]][[\"drug_name\", \"recist\"]].value_counts()"
   ]
  },
  {
   "cell_type": "code",
   "execution_count": 22,
   "id": "00b307d2-43a5-46d3-b045-170204cf4fbd",
   "metadata": {},
   "outputs": [
    {
     "data": {
      "text/html": [
       "<div>\n",
       "<style scoped>\n",
       "    .dataframe tbody tr th:only-of-type {\n",
       "        vertical-align: middle;\n",
       "    }\n",
       "\n",
       "    .dataframe tbody tr th {\n",
       "        vertical-align: top;\n",
       "    }\n",
       "\n",
       "    .dataframe thead th {\n",
       "        text-align: right;\n",
       "    }\n",
       "</style>\n",
       "<table border=\"1\" class=\"dataframe\">\n",
       "  <thead>\n",
       "    <tr style=\"text-align: right;\">\n",
       "      <th></th>\n",
       "      <th>drug_name</th>\n",
       "      <th>AUROC</th>\n",
       "      <th>AUPRC</th>\n",
       "      <th>pearsonr</th>\n",
       "      <th>pearsonr_pval</th>\n",
       "      <th>method</th>\n",
       "      <th>fold</th>\n",
       "    </tr>\n",
       "  </thead>\n",
       "  <tbody>\n",
       "    <tr>\n",
       "      <th>0</th>\n",
       "      <td>BUPARLISIB</td>\n",
       "      <td>0.3750</td>\n",
       "      <td>0.1667</td>\n",
       "      <td>-0.120743</td>\n",
       "      <td>0.756993</td>\n",
       "      <td>DiffDRP_v7</td>\n",
       "      <td>2</td>\n",
       "    </tr>\n",
       "    <tr>\n",
       "      <th>1</th>\n",
       "      <td>CISPLATIN</td>\n",
       "      <td>0.5521</td>\n",
       "      <td>0.8799</td>\n",
       "      <td>0.019500</td>\n",
       "      <td>0.921545</td>\n",
       "      <td>DiffDRP_v7</td>\n",
       "      <td>2</td>\n",
       "    </tr>\n",
       "    <tr>\n",
       "      <th>2</th>\n",
       "      <td>FLUOROURACIL</td>\n",
       "      <td>0.7500</td>\n",
       "      <td>0.9004</td>\n",
       "      <td>0.269771</td>\n",
       "      <td>0.422409</td>\n",
       "      <td>DiffDRP_v7</td>\n",
       "      <td>2</td>\n",
       "    </tr>\n",
       "    <tr>\n",
       "      <th>3</th>\n",
       "      <td>GEMCITABINE</td>\n",
       "      <td>0.6481</td>\n",
       "      <td>0.7193</td>\n",
       "      <td>0.358994</td>\n",
       "      <td>0.188819</td>\n",
       "      <td>DiffDRP_v7</td>\n",
       "      <td>2</td>\n",
       "    </tr>\n",
       "    <tr>\n",
       "      <th>4</th>\n",
       "      <td>PACLITAXEL</td>\n",
       "      <td>0.9167</td>\n",
       "      <td>0.9762</td>\n",
       "      <td>0.767714</td>\n",
       "      <td>0.026128</td>\n",
       "      <td>DiffDRP_v7</td>\n",
       "      <td>2</td>\n",
       "    </tr>\n",
       "    <tr>\n",
       "      <th>5</th>\n",
       "      <td>SORAFENIB</td>\n",
       "      <td>0.0769</td>\n",
       "      <td>0.0769</td>\n",
       "      <td>-0.292309</td>\n",
       "      <td>0.310524</td>\n",
       "      <td>DiffDRP_v7</td>\n",
       "      <td>2</td>\n",
       "    </tr>\n",
       "    <tr>\n",
       "      <th>6</th>\n",
       "      <td>TEMOZOLOMIDE</td>\n",
       "      <td>0.5000</td>\n",
       "      <td>0.1649</td>\n",
       "      <td>0.105360</td>\n",
       "      <td>0.593629</td>\n",
       "      <td>DiffDRP_v7</td>\n",
       "      <td>2</td>\n",
       "    </tr>\n",
       "  </tbody>\n",
       "</table>\n",
       "</div>"
      ],
      "text/plain": [
       "      drug_name   AUROC   AUPRC  pearsonr  pearsonr_pval      method  fold\n",
       "0    BUPARLISIB  0.3750  0.1667 -0.120743       0.756993  DiffDRP_v7     2\n",
       "1     CISPLATIN  0.5521  0.8799  0.019500       0.921545  DiffDRP_v7     2\n",
       "2  FLUOROURACIL  0.7500  0.9004  0.269771       0.422409  DiffDRP_v7     2\n",
       "3   GEMCITABINE  0.6481  0.7193  0.358994       0.188819  DiffDRP_v7     2\n",
       "4    PACLITAXEL  0.9167  0.9762  0.767714       0.026128  DiffDRP_v7     2\n",
       "5     SORAFENIB  0.0769  0.0769 -0.292309       0.310524  DiffDRP_v7     2\n",
       "6  TEMOZOLOMIDE  0.5000  0.1649  0.105360       0.593629  DiffDRP_v7     2"
      ]
     },
     "execution_count": 22,
     "metadata": {},
     "output_type": "execute_result"
    }
   ],
   "source": [
    "# fold 2\n",
    "fold = 2\n",
    "res_df2 = pd.DataFrame()\n",
    "for m in models:\n",
    "    # print(m)\n",
    "    if \"DiffDRP\" not in m:\n",
    "        path = f\"{saved_folder}/{m}/saved_model_annotated_mutations/prediction_patients_val_corr_2A_ALL_fold{fold}.csv\"\n",
    "    else:\n",
    "        path = f\"/data/ajayago/papers_data/{m}/run_files/saved_model_annotated_mutations/prediction_patients_val_corr_2A_ALL_fold{fold}.csv\"\n",
    "    if os.path.exists(path):\n",
    "        df = pd.read_csv(path, index_col=0)\n",
    "        combined_df = pd.concat([exp2A_fold2[\"test\"][[\"sample_id\", \"drug_name\", \"recist\", \"mappedProject\", \"dataset_name\"]],df], axis=1)\n",
    "        for d in combined_df.drug_name.unique():\n",
    "            if d in [\"FLUOROURACIL\", \"GEMCITABINE\", \"PACLITAXEL\", \"TEMOZOLOMIDE\", \"CISPLATIN\"]:\n",
    "                subset_df = pd.read_csv(f\"/data/ajayago/papers_data/{m}/run_files/saved_model_annotated_mutations/prediction_patients_val_corr_2A_ALL_fold{fold}_tuned4{d}.csv\")\n",
    "            else:\n",
    "                subset_df = combined_df[combined_df.drug_name == d]\n",
    "            if len(subset_df[\"y_true\"].value_counts()) >= 2: # both classes available\n",
    "                auroc_val = round(roc_auc_score(subset_df[\"y_true\"], subset_df[\"y_pred\"]), 4)\n",
    "                auprc_val = round(average_precision_score(subset_df[\"y_true\"], subset_df[\"y_pred\"]), 4)\n",
    "                pearsonr_val = pearsonr(subset_df[\"y_true\"], subset_df[\"y_pred\"])\n",
    "                # print(f\"Drug Name: {d}\")\n",
    "                # print(f\"AUROC = {auroc_val}\")\n",
    "                # print(f\"AUPRC = {auprc_val}\")\n",
    "                res_dict = {\"drug_name\": d, \"AUROC\": auroc_val, \"AUPRC\": auprc_val, \"pearsonr\": pearsonr_val.statistic, \"pearsonr_pval\": pearsonr_val.pvalue, \"method\": m, \"fold\": fold}\n",
    "                res_df2 = res_df2._append(res_dict, ignore_index=True)\n",
    "res_df2\n",
    "            "
   ]
  },
  {
   "cell_type": "code",
   "execution_count": 23,
   "id": "64c97c18-9de1-410e-9ff5-c2b8ad4b67af",
   "metadata": {},
   "outputs": [
    {
     "data": {
      "text/html": [
       "<div>\n",
       "<style scoped>\n",
       "    .dataframe tbody tr th:only-of-type {\n",
       "        vertical-align: middle;\n",
       "    }\n",
       "\n",
       "    .dataframe tbody tr th {\n",
       "        vertical-align: top;\n",
       "    }\n",
       "\n",
       "    .dataframe thead th {\n",
       "        text-align: right;\n",
       "    }\n",
       "</style>\n",
       "<table border=\"1\" class=\"dataframe\">\n",
       "  <thead>\n",
       "    <tr style=\"text-align: right;\">\n",
       "      <th>drug_name</th>\n",
       "      <th>BUPARLISIB</th>\n",
       "      <th>CISPLATIN</th>\n",
       "      <th>FLUOROURACIL</th>\n",
       "      <th>GEMCITABINE</th>\n",
       "      <th>PACLITAXEL</th>\n",
       "      <th>SORAFENIB</th>\n",
       "      <th>TEMOZOLOMIDE</th>\n",
       "    </tr>\n",
       "    <tr>\n",
       "      <th>method</th>\n",
       "      <th></th>\n",
       "      <th></th>\n",
       "      <th></th>\n",
       "      <th></th>\n",
       "      <th></th>\n",
       "      <th></th>\n",
       "      <th></th>\n",
       "    </tr>\n",
       "  </thead>\n",
       "  <tbody>\n",
       "    <tr>\n",
       "      <th>DiffDRP_v7</th>\n",
       "      <td>0.375</td>\n",
       "      <td>0.5521</td>\n",
       "      <td>0.75</td>\n",
       "      <td>0.6481</td>\n",
       "      <td>0.9167</td>\n",
       "      <td>0.0769</td>\n",
       "      <td>0.5</td>\n",
       "    </tr>\n",
       "  </tbody>\n",
       "</table>\n",
       "</div>"
      ],
      "text/plain": [
       "drug_name   BUPARLISIB  CISPLATIN  FLUOROURACIL  GEMCITABINE  PACLITAXEL  \\\n",
       "method                                                                     \n",
       "DiffDRP_v7       0.375     0.5521          0.75       0.6481      0.9167   \n",
       "\n",
       "drug_name   SORAFENIB  TEMOZOLOMIDE  \n",
       "method                               \n",
       "DiffDRP_v7     0.0769           0.5  "
      ]
     },
     "execution_count": 23,
     "metadata": {},
     "output_type": "execute_result"
    }
   ],
   "source": [
    "res_df2.pivot_table(index=\"method\", values=\"AUROC\", columns=\"drug_name\") # AUROC"
   ]
  },
  {
   "cell_type": "code",
   "execution_count": 24,
   "id": "93659373-4a86-468a-bf4c-476e5a857411",
   "metadata": {},
   "outputs": [
    {
     "data": {
      "text/html": [
       "<div>\n",
       "<style scoped>\n",
       "    .dataframe tbody tr th:only-of-type {\n",
       "        vertical-align: middle;\n",
       "    }\n",
       "\n",
       "    .dataframe tbody tr th {\n",
       "        vertical-align: top;\n",
       "    }\n",
       "\n",
       "    .dataframe thead th {\n",
       "        text-align: right;\n",
       "    }\n",
       "</style>\n",
       "<table border=\"1\" class=\"dataframe\">\n",
       "  <thead>\n",
       "    <tr style=\"text-align: right;\">\n",
       "      <th>drug_name</th>\n",
       "      <th>BUPARLISIB</th>\n",
       "      <th>CISPLATIN</th>\n",
       "      <th>FLUOROURACIL</th>\n",
       "      <th>GEMCITABINE</th>\n",
       "      <th>PACLITAXEL</th>\n",
       "      <th>SORAFENIB</th>\n",
       "      <th>TEMOZOLOMIDE</th>\n",
       "    </tr>\n",
       "    <tr>\n",
       "      <th>method</th>\n",
       "      <th></th>\n",
       "      <th></th>\n",
       "      <th></th>\n",
       "      <th></th>\n",
       "      <th></th>\n",
       "      <th></th>\n",
       "      <th></th>\n",
       "    </tr>\n",
       "  </thead>\n",
       "  <tbody>\n",
       "    <tr>\n",
       "      <th>DiffDRP_v7</th>\n",
       "      <td>0.1667</td>\n",
       "      <td>0.8799</td>\n",
       "      <td>0.9004</td>\n",
       "      <td>0.7193</td>\n",
       "      <td>0.9762</td>\n",
       "      <td>0.0769</td>\n",
       "      <td>0.1649</td>\n",
       "    </tr>\n",
       "  </tbody>\n",
       "</table>\n",
       "</div>"
      ],
      "text/plain": [
       "drug_name   BUPARLISIB  CISPLATIN  FLUOROURACIL  GEMCITABINE  PACLITAXEL  \\\n",
       "method                                                                     \n",
       "DiffDRP_v7      0.1667     0.8799        0.9004       0.7193      0.9762   \n",
       "\n",
       "drug_name   SORAFENIB  TEMOZOLOMIDE  \n",
       "method                               \n",
       "DiffDRP_v7     0.0769        0.1649  "
      ]
     },
     "execution_count": 24,
     "metadata": {},
     "output_type": "execute_result"
    }
   ],
   "source": [
    "res_df2.pivot_table(index=\"method\", values=\"AUPRC\", columns=\"drug_name\") # AUPRC"
   ]
  },
  {
   "cell_type": "code",
   "execution_count": 25,
   "id": "10f1e023-fcae-46c5-9ab1-46774ab7dd0d",
   "metadata": {},
   "outputs": [
    {
     "data": {
      "text/plain": [
       "drug_name     recist\n",
       "CISPLATIN     1         24\n",
       "TEMOZOLOMIDE  0         24\n",
       "SORAFENIB     0         13\n",
       "GEMCITABINE   0          9\n",
       "BUPARLISIB    0          8\n",
       "FLUOROURACIL  1          7\n",
       "PACLITAXEL    1          6\n",
       "GEMCITABINE   1          6\n",
       "CISPLATIN     0          4\n",
       "FLUOROURACIL  0          4\n",
       "TEMOZOLOMIDE  1          4\n",
       "PACLITAXEL    0          2\n",
       "BUPARLISIB    1          1\n",
       "SORAFENIB     1          1\n",
       "Name: count, dtype: int64"
      ]
     },
     "execution_count": 25,
     "metadata": {},
     "output_type": "execute_result"
    }
   ],
   "source": [
    "exp2A_fold2[\"test\"][[\"sample_id\", \"drug_name\", \"recist\", \"mappedProject\", \"dataset_name\"]][[\"drug_name\", \"recist\"]].value_counts()"
   ]
  },
  {
   "cell_type": "code",
   "execution_count": 26,
   "id": "80e35ea2-62b3-496c-96aa-5c748097d9f3",
   "metadata": {
    "scrolled": true
   },
   "outputs": [],
   "source": [
    "drug_res_df_auroc = pd.concat([res_df0, res_df1, res_df2]).pivot_table(index=\"method\", values=\"AUROC\", columns=\"drug_name\").reset_index()\n",
    "drug_res_df_auroc.drop([\"BUPARLISIB\", \"SORAFENIB\"], axis=1, inplace=True)"
   ]
  },
  {
   "cell_type": "code",
   "execution_count": 27,
   "id": "304bb96b-ef1b-4301-80b7-a8acd969b45a",
   "metadata": {},
   "outputs": [
    {
     "data": {
      "text/html": [
       "<div>\n",
       "<style scoped>\n",
       "    .dataframe tbody tr th:only-of-type {\n",
       "        vertical-align: middle;\n",
       "    }\n",
       "\n",
       "    .dataframe tbody tr th {\n",
       "        vertical-align: top;\n",
       "    }\n",
       "\n",
       "    .dataframe thead th {\n",
       "        text-align: right;\n",
       "    }\n",
       "</style>\n",
       "<table border=\"1\" class=\"dataframe\">\n",
       "  <thead>\n",
       "    <tr style=\"text-align: right;\">\n",
       "      <th></th>\n",
       "      <th>CISPLATIN</th>\n",
       "      <th>FLUOROURACIL</th>\n",
       "      <th>GEMCITABINE</th>\n",
       "      <th>PACLITAXEL</th>\n",
       "      <th>TEMOZOLOMIDE</th>\n",
       "    </tr>\n",
       "    <tr>\n",
       "      <th>method</th>\n",
       "      <th></th>\n",
       "      <th></th>\n",
       "      <th></th>\n",
       "      <th></th>\n",
       "      <th></th>\n",
       "    </tr>\n",
       "  </thead>\n",
       "  <tbody>\n",
       "    <tr>\n",
       "      <th>DiffDRP_v7</th>\n",
       "      <td>0.5961</td>\n",
       "      <td>0.730933</td>\n",
       "      <td>0.618833</td>\n",
       "      <td>0.772833</td>\n",
       "      <td>0.517667</td>\n",
       "    </tr>\n",
       "    <tr>\n",
       "      <th>CODE-AE</th>\n",
       "      <td>0.6322</td>\n",
       "      <td>0.538100</td>\n",
       "      <td>0.508500</td>\n",
       "      <td>0.361100</td>\n",
       "      <td>0.433167</td>\n",
       "    </tr>\n",
       "  </tbody>\n",
       "</table>\n",
       "</div>"
      ],
      "text/plain": [
       "            CISPLATIN  FLUOROURACIL  GEMCITABINE  PACLITAXEL  TEMOZOLOMIDE\n",
       "method                                                                    \n",
       "DiffDRP_v7     0.5961      0.730933     0.618833    0.772833      0.517667\n",
       "CODE-AE        0.6322      0.538100     0.508500    0.361100      0.433167"
      ]
     },
     "execution_count": 27,
     "metadata": {},
     "output_type": "execute_result"
    }
   ],
   "source": [
    "code_ae_auroc = {\"method\": \"CODE-AE\", \"CISPLATIN\": 0.6322, \"FLUOROURACIL\": 0.5381, \"GEMCITABINE\": 0.5085, \"PACLITAXEL\": 0.3611, \"TEMOZOLOMIDE\": 0.433166667}\n",
    "drug_res_df_auroc = drug_res_df_auroc._append(code_ae_auroc, ignore_index=True)\n",
    "drug_res_df_auroc.set_index(\"method\")"
   ]
  },
  {
   "cell_type": "code",
   "execution_count": 28,
   "id": "16008c6f-c2ba-4f63-8595-b35ace8a86e9",
   "metadata": {},
   "outputs": [
    {
     "name": "stderr",
     "output_type": "stream",
     "text": [
      "/tmp/ipykernel_35717/1292748846.py:1: FutureWarning: The provided callable <function std at 0x7fc0601c9630> is currently using DataFrameGroupBy.std. In a future version of pandas, the provided callable will be used directly. To keep current behavior pass the string \"std\" instead.\n",
      "  pd.concat([res_df0, res_df1, res_df2]).pivot_table(index=\"method\", values=\"AUROC\", columns=\"drug_name\", aggfunc=np.std).reset_index().drop([\"BUPARLISIB\", \"SORAFENIB\"], axis=1)\n"
     ]
    },
    {
     "data": {
      "text/html": [
       "<div>\n",
       "<style scoped>\n",
       "    .dataframe tbody tr th:only-of-type {\n",
       "        vertical-align: middle;\n",
       "    }\n",
       "\n",
       "    .dataframe tbody tr th {\n",
       "        vertical-align: top;\n",
       "    }\n",
       "\n",
       "    .dataframe thead th {\n",
       "        text-align: right;\n",
       "    }\n",
       "</style>\n",
       "<table border=\"1\" class=\"dataframe\">\n",
       "  <thead>\n",
       "    <tr style=\"text-align: right;\">\n",
       "      <th>drug_name</th>\n",
       "      <th>method</th>\n",
       "      <th>CISPLATIN</th>\n",
       "      <th>FLUOROURACIL</th>\n",
       "      <th>GEMCITABINE</th>\n",
       "      <th>PACLITAXEL</th>\n",
       "      <th>TEMOZOLOMIDE</th>\n",
       "    </tr>\n",
       "  </thead>\n",
       "  <tbody>\n",
       "    <tr>\n",
       "      <th>0</th>\n",
       "      <td>DiffDRP_v7</td>\n",
       "      <td>0.040041</td>\n",
       "      <td>0.066386</td>\n",
       "      <td>0.067444</td>\n",
       "      <td>0.125311</td>\n",
       "      <td>0.071359</td>\n",
       "    </tr>\n",
       "  </tbody>\n",
       "</table>\n",
       "</div>"
      ],
      "text/plain": [
       "drug_name      method  CISPLATIN  FLUOROURACIL  GEMCITABINE  PACLITAXEL  \\\n",
       "0          DiffDRP_v7   0.040041      0.066386     0.067444    0.125311   \n",
       "\n",
       "drug_name  TEMOZOLOMIDE  \n",
       "0              0.071359  "
      ]
     },
     "execution_count": 28,
     "metadata": {},
     "output_type": "execute_result"
    }
   ],
   "source": [
    "pd.concat([res_df0, res_df1, res_df2]).pivot_table(index=\"method\", values=\"AUROC\", columns=\"drug_name\", aggfunc=np.std).reset_index().drop([\"BUPARLISIB\", \"SORAFENIB\"], axis=1)"
   ]
  },
  {
   "cell_type": "code",
   "execution_count": 29,
   "id": "3ed494f5-a7b0-4a01-9415-164d306e9ed8",
   "metadata": {},
   "outputs": [],
   "source": [
    "# CODE-AE std AUROC, AUPRC\n",
    "# FU: 0.1606, 0.1435\n",
    "# Gem: 0.0503, 0.0701\n",
    "# Pac: 0.3155, 0.0574\n",
    "# Tem: 0.3123, 0.0929 "
   ]
  },
  {
   "cell_type": "code",
   "execution_count": 30,
   "id": "4f0fa6b5-6133-4a4f-98f0-2a56cca35632",
   "metadata": {},
   "outputs": [],
   "source": [
    "drug_res_df_auprc = pd.concat([res_df0, res_df1, res_df2]).pivot_table(index=\"method\", values=\"AUPRC\", columns=\"drug_name\").reset_index()\n",
    "drug_res_df_auprc.drop([\"BUPARLISIB\", \"SORAFENIB\"], axis=1, inplace=True)"
   ]
  },
  {
   "cell_type": "code",
   "execution_count": 31,
   "id": "470e1689-b9d2-43e7-8915-5098bd8ae228",
   "metadata": {},
   "outputs": [
    {
     "data": {
      "text/html": [
       "<div>\n",
       "<style scoped>\n",
       "    .dataframe tbody tr th:only-of-type {\n",
       "        vertical-align: middle;\n",
       "    }\n",
       "\n",
       "    .dataframe tbody tr th {\n",
       "        vertical-align: top;\n",
       "    }\n",
       "\n",
       "    .dataframe thead th {\n",
       "        text-align: right;\n",
       "    }\n",
       "</style>\n",
       "<table border=\"1\" class=\"dataframe\">\n",
       "  <thead>\n",
       "    <tr style=\"text-align: right;\">\n",
       "      <th></th>\n",
       "      <th>CISPLATIN</th>\n",
       "      <th>FLUOROURACIL</th>\n",
       "      <th>GEMCITABINE</th>\n",
       "      <th>PACLITAXEL</th>\n",
       "      <th>TEMOZOLOMIDE</th>\n",
       "    </tr>\n",
       "    <tr>\n",
       "      <th>method</th>\n",
       "      <th></th>\n",
       "      <th></th>\n",
       "      <th></th>\n",
       "      <th></th>\n",
       "      <th></th>\n",
       "    </tr>\n",
       "  </thead>\n",
       "  <tbody>\n",
       "    <tr>\n",
       "      <th>DiffDRP_v7</th>\n",
       "      <td>0.913167</td>\n",
       "      <td>0.848267</td>\n",
       "      <td>0.587433</td>\n",
       "      <td>0.955767</td>\n",
       "      <td>0.168400</td>\n",
       "    </tr>\n",
       "    <tr>\n",
       "      <th>CODE-AE</th>\n",
       "      <td>0.905900</td>\n",
       "      <td>0.666500</td>\n",
       "      <td>0.473500</td>\n",
       "      <td>0.820800</td>\n",
       "      <td>0.175633</td>\n",
       "    </tr>\n",
       "  </tbody>\n",
       "</table>\n",
       "</div>"
      ],
      "text/plain": [
       "            CISPLATIN  FLUOROURACIL  GEMCITABINE  PACLITAXEL  TEMOZOLOMIDE\n",
       "method                                                                    \n",
       "DiffDRP_v7   0.913167      0.848267     0.587433    0.955767      0.168400\n",
       "CODE-AE      0.905900      0.666500     0.473500    0.820800      0.175633"
      ]
     },
     "execution_count": 31,
     "metadata": {},
     "output_type": "execute_result"
    }
   ],
   "source": [
    "code_ae_auprc = {\"method\": \"CODE-AE\", \"CISPLATIN\": 0.9059, \"FLUOROURACIL\": 0.6665, \"GEMCITABINE\": 0.4735, \"PACLITAXEL\": 0.8208, \"TEMOZOLOMIDE\": 0.1756333}\n",
    "drug_res_df_auprc = drug_res_df_auprc._append(code_ae_auprc, ignore_index=True)\n",
    "drug_res_df_auprc.set_index(\"method\")"
   ]
  },
  {
   "cell_type": "code",
   "execution_count": 32,
   "id": "b6de4901-a32d-48d3-9eaa-6ec287463fbb",
   "metadata": {},
   "outputs": [
    {
     "name": "stderr",
     "output_type": "stream",
     "text": [
      "/tmp/ipykernel_35717/3392442063.py:1: FutureWarning: The provided callable <function std at 0x7fc0601c9630> is currently using DataFrameGroupBy.std. In a future version of pandas, the provided callable will be used directly. To keep current behavior pass the string \"std\" instead.\n",
      "  pd.concat([res_df0, res_df1, res_df2]).pivot_table(index=\"method\", values=\"AUPRC\", columns=\"drug_name\", aggfunc=np.std).reset_index().drop([\"CISPLATIN\", \"BUPARLISIB\", \"SORAFENIB\"], axis=1)\n"
     ]
    },
    {
     "data": {
      "text/html": [
       "<div>\n",
       "<style scoped>\n",
       "    .dataframe tbody tr th:only-of-type {\n",
       "        vertical-align: middle;\n",
       "    }\n",
       "\n",
       "    .dataframe tbody tr th {\n",
       "        vertical-align: top;\n",
       "    }\n",
       "\n",
       "    .dataframe thead th {\n",
       "        text-align: right;\n",
       "    }\n",
       "</style>\n",
       "<table border=\"1\" class=\"dataframe\">\n",
       "  <thead>\n",
       "    <tr style=\"text-align: right;\">\n",
       "      <th>drug_name</th>\n",
       "      <th>method</th>\n",
       "      <th>FLUOROURACIL</th>\n",
       "      <th>GEMCITABINE</th>\n",
       "      <th>PACLITAXEL</th>\n",
       "      <th>TEMOZOLOMIDE</th>\n",
       "    </tr>\n",
       "  </thead>\n",
       "  <tbody>\n",
       "    <tr>\n",
       "      <th>0</th>\n",
       "      <td>DiffDRP_v7</td>\n",
       "      <td>0.093258</td>\n",
       "      <td>0.174998</td>\n",
       "      <td>0.023958</td>\n",
       "      <td>0.048545</td>\n",
       "    </tr>\n",
       "  </tbody>\n",
       "</table>\n",
       "</div>"
      ],
      "text/plain": [
       "drug_name      method  FLUOROURACIL  GEMCITABINE  PACLITAXEL  TEMOZOLOMIDE\n",
       "0          DiffDRP_v7      0.093258     0.174998    0.023958      0.048545"
      ]
     },
     "execution_count": 32,
     "metadata": {},
     "output_type": "execute_result"
    }
   ],
   "source": [
    "pd.concat([res_df0, res_df1, res_df2]).pivot_table(index=\"method\", values=\"AUPRC\", columns=\"drug_name\", aggfunc=np.std).reset_index().drop([\"CISPLATIN\", \"BUPARLISIB\", \"SORAFENIB\"], axis=1)"
   ]
  },
  {
   "cell_type": "code",
   "execution_count": 33,
   "id": "d975e2c3-bb97-4983-af12-51568536995a",
   "metadata": {},
   "outputs": [
    {
     "data": {
      "text/html": [
       "<div>\n",
       "<style scoped>\n",
       "    .dataframe tbody tr th:only-of-type {\n",
       "        vertical-align: middle;\n",
       "    }\n",
       "\n",
       "    .dataframe tbody tr th {\n",
       "        vertical-align: top;\n",
       "    }\n",
       "\n",
       "    .dataframe thead th {\n",
       "        text-align: right;\n",
       "    }\n",
       "</style>\n",
       "<table border=\"1\" class=\"dataframe\">\n",
       "  <thead>\n",
       "    <tr style=\"text-align: right;\">\n",
       "      <th>drug_name</th>\n",
       "      <th>CISPLATIN</th>\n",
       "      <th>FLUOROURACIL</th>\n",
       "      <th>GEMCITABINE</th>\n",
       "      <th>PACLITAXEL</th>\n",
       "      <th>TEMOZOLOMIDE</th>\n",
       "    </tr>\n",
       "    <tr>\n",
       "      <th>method</th>\n",
       "      <th></th>\n",
       "      <th></th>\n",
       "      <th></th>\n",
       "      <th></th>\n",
       "      <th></th>\n",
       "    </tr>\n",
       "  </thead>\n",
       "  <tbody>\n",
       "    <tr>\n",
       "      <th>DiffDRP_v7</th>\n",
       "      <td>0.025517</td>\n",
       "      <td>0.358669</td>\n",
       "      <td>0.264388</td>\n",
       "      <td>0.305718</td>\n",
       "      <td>0.059688</td>\n",
       "    </tr>\n",
       "  </tbody>\n",
       "</table>\n",
       "</div>"
      ],
      "text/plain": [
       "drug_name   CISPLATIN  FLUOROURACIL  GEMCITABINE  PACLITAXEL  TEMOZOLOMIDE\n",
       "method                                                                    \n",
       "DiffDRP_v7   0.025517      0.358669     0.264388    0.305718      0.059688"
      ]
     },
     "execution_count": 33,
     "metadata": {},
     "output_type": "execute_result"
    }
   ],
   "source": [
    "pd.concat([res_df0, res_df1, res_df2]).pivot_table(index=\"method\", values=\"pearsonr\", columns=\"drug_name\").drop([\"BUPARLISIB\", \"SORAFENIB\"], axis=1)"
   ]
  },
  {
   "cell_type": "markdown",
   "id": "3f0f0c22-3aa5-4903-85a8-363356712257",
   "metadata": {},
   "source": [
    "#### Results comparing with 1A methods\n",
    "\n",
    "Here 1A methods only predict for a subset of the 2A test set. To compare overall AUROC and AUPRC we restrict 2A predictions also to the same subset."
   ]
  },
  {
   "cell_type": "code",
   "execution_count": 34,
   "id": "818b3058-7b8e-4f60-a603-8afbd5440946",
   "metadata": {},
   "outputs": [],
   "source": [
    "# experiment 1A settings\n",
    "with open(\"/data/ajayago/papers_data/systematic_assessment/input_types/annotated_mutations/Experiment1/SettingA/patients_fold0_processed.pkl\", \"rb\") as f:\n",
    "    exp1A_patient_fold0 = pickle.load(f)\n",
    "\n",
    "with open(\"/data/ajayago/papers_data/systematic_assessment/input_types/annotated_mutations/Experiment1/SettingA/patients_fold1_processed.pkl\", \"rb\") as f:\n",
    "    exp1A_patient_fold1 = pickle.load(f)\n",
    "\n",
    "with open(\"/data/ajayago/papers_data/systematic_assessment/input_types/annotated_mutations/Experiment1/SettingA/patients_fold2_processed.pkl\", \"rb\") as f:\n",
    "    exp1A_patient_fold2 = pickle.load(f)"
   ]
  },
  {
   "cell_type": "code",
   "execution_count": 35,
   "id": "7e51d791-5e1a-4296-9b35-19930dab2b0f",
   "metadata": {},
   "outputs": [
    {
     "data": {
      "text/plain": [
       "dict_keys(['BUPARLISIB', 'CISPLATIN', 'FLUOROURACIL', 'GEMCITABINE', 'PACLITAXEL', 'SORAFENIB', 'TEMOZOLOMIDE'])"
      ]
     },
     "execution_count": 35,
     "metadata": {},
     "output_type": "execute_result"
    }
   ],
   "source": [
    "exp1A_patient_fold0[\"test\"].keys()"
   ]
  },
  {
   "cell_type": "code",
   "execution_count": 66,
   "id": "1d08e394-57e4-4e34-af02-5ad56980d4cc",
   "metadata": {},
   "outputs": [
    {
     "name": "stdout",
     "output_type": "stream",
     "text": [
      "(12, 7781)\n",
      "(14, 7781)\n",
      "(8, 7781)\n",
      "(27, 7781)\n",
      "(30, 7781)\n"
     ]
    }
   ],
   "source": [
    "combined_df_fold0_subset = pd.DataFrame()\n",
    "for d in ['FLUOROURACIL', 'GEMCITABINE', 'PACLITAXEL', 'CISPLATIN', 'TEMOZOLOMIDE']:\n",
    "    print(exp1A_patient_fold0[\"test\"][d].shape)\n",
    "    combined_df_fold0_subset = pd.concat([combined_df_fold0_subset, exp1A_patient_fold0[\"test\"][d][[\"sample_id\", \"drug_name\", \"recist\"]]], ignore_index=True)"
   ]
  },
  {
   "cell_type": "code",
   "execution_count": 67,
   "id": "52f40b12-cbb6-40e2-8ab1-9663ab53073d",
   "metadata": {},
   "outputs": [
    {
     "name": "stdout",
     "output_type": "stream",
     "text": [
      "(11, 7781)\n",
      "(11, 7781)\n",
      "(10, 7781)\n",
      "(30, 7781)\n",
      "(30, 7781)\n"
     ]
    }
   ],
   "source": [
    "combined_df_fold1_subset = pd.DataFrame()\n",
    "for d in ['FLUOROURACIL', 'GEMCITABINE', 'PACLITAXEL', 'CISPLATIN', 'TEMOZOLOMIDE']:\n",
    "    print(exp1A_patient_fold1[\"test\"][d].shape)\n",
    "    combined_df_fold1_subset = pd.concat([combined_df_fold1_subset, exp1A_patient_fold1[\"test\"][d][[\"sample_id\", \"drug_name\", \"recist\"]]], ignore_index=True)"
   ]
  },
  {
   "cell_type": "code",
   "execution_count": 68,
   "id": "f543a8eb-56da-499f-9311-8ded3a4cc712",
   "metadata": {},
   "outputs": [
    {
     "name": "stdout",
     "output_type": "stream",
     "text": [
      "(11, 7781)\n",
      "(15, 7781)\n",
      "(8, 7781)\n",
      "(28, 7781)\n",
      "(28, 7781)\n"
     ]
    }
   ],
   "source": [
    "combined_df_fold2_subset = pd.DataFrame()\n",
    "for d in ['FLUOROURACIL', 'GEMCITABINE', 'PACLITAXEL', 'CISPLATIN', 'TEMOZOLOMIDE']:\n",
    "    print(exp1A_patient_fold2[\"test\"][d].shape)\n",
    "    combined_df_fold2_subset = pd.concat([combined_df_fold2_subset, exp1A_patient_fold2[\"test\"][d][[\"sample_id\", \"drug_name\", \"recist\"]]], ignore_index=True)"
   ]
  },
  {
   "cell_type": "code",
   "execution_count": 69,
   "id": "b0e2d577-c423-403c-9c1a-56e2603b8e5a",
   "metadata": {},
   "outputs": [
    {
     "data": {
      "text/plain": [
       "((91, 3), (92, 3), (90, 3))"
      ]
     },
     "execution_count": 69,
     "metadata": {},
     "output_type": "execute_result"
    }
   ],
   "source": [
    "combined_df_fold0_subset.shape, combined_df_fold1_subset.shape, combined_df_fold2_subset.shape"
   ]
  },
  {
   "cell_type": "code",
   "execution_count": 70,
   "id": "fe0cf0b7-2908-478c-9c4f-8fd3a0990e1b",
   "metadata": {},
   "outputs": [],
   "source": [
    "# # code-ae results fold 0\n",
    "# fold = 0\n",
    "# print(\"CODE-AE\")\n",
    "# code_ae_results_df = pd.DataFrame()\n",
    "# # for d in ['CISPLATIN', 'FLUOROURACIL', 'GEMCITABINE', 'PACLITAXEL', 'TEMOZOLOMIDE']:\n",
    "# for d in ['FLUOROURACIL', 'GEMCITABINE', 'PACLITAXEL', 'TEMOZOLOMIDE']:\n",
    "#     subset_df = pd.read_csv(f\"/data/ajayago/papers_data/systematic_assessment/run_files/CODE-AE/saved_model_annotated_mutations/prediction_patients_val_corr_1A_{d}_fold{fold}.csv\", index_col = 0)\n",
    "#     print(subset_df.shape)\n",
    "#     code_ae_results_df = pd.concat([code_ae_results_df, subset_df])\n",
    "# code_ae_results_df[\"sample_id\"] = combined_df_fold0_subset[\"sample_id\"]\n",
    "# code_ae_results_df[\"drug_name\"] = combined_df_fold0_subset[\"drug_name\"]\n",
    "# auroc_val0 = round(roc_auc_score(code_ae_results_df[\"y_true\"], code_ae_results_df[\"y_pred\"]), 4)\n",
    "# auprc_val0 = round(average_precision_score(code_ae_results_df[\"y_true\"], code_ae_results_df[\"y_pred\"]), 4)\n",
    "# pearsonr_val0 = round(pearsonr(code_ae_results_df[\"y_true\"], code_ae_results_df[\"y_pred\"]).statistic, 4)\n",
    "# print(f\"Overall AUROC for {code_ae_results_df.shape[0]} test points in fold {fold} = {auroc_val0}\")\n",
    "# print(f\"Overall AUPRC for {code_ae_results_df.shape[0]} test points in fold {fold} = {auprc_val0}\")"
   ]
  },
  {
   "cell_type": "code",
   "execution_count": 71,
   "id": "1baefc43-a8b2-4875-a035-8d835005f5fa",
   "metadata": {},
   "outputs": [],
   "source": [
    "# # code-ae results fold 1\n",
    "# fold = 1\n",
    "# print(\"CODE-AE\")\n",
    "# code_ae_results_df = pd.DataFrame()\n",
    "# for d in ['FLUOROURACIL', 'GEMCITABINE', 'PACLITAXEL', 'TEMOZOLOMIDE']:\n",
    "#     subset_df = pd.read_csv(f\"/data/ajayago/papers_data/systematic_assessment/run_files/CODE-AE/saved_model_annotated_mutations/prediction_patients_val_corr_1A_{d}_fold{fold}.csv\", index_col = 0)\n",
    "#     print(subset_df.shape)\n",
    "#     code_ae_results_df = pd.concat([code_ae_results_df, subset_df])\n",
    "# code_ae_results_df[\"sample_id\"] = combined_df_fold1_subset[\"sample_id\"]\n",
    "# code_ae_results_df[\"drug_name\"] = combined_df_fold1_subset[\"drug_name\"]\n",
    "# auroc_val1 = round(roc_auc_score(code_ae_results_df[\"y_true\"], code_ae_results_df[\"y_pred\"]), 4)\n",
    "# auprc_val1 = round(average_precision_score(code_ae_results_df[\"y_true\"], code_ae_results_df[\"y_pred\"]), 4)\n",
    "# pearsonr_val1 = round(pearsonr(code_ae_results_df[\"y_true\"], code_ae_results_df[\"y_pred\"]).statistic, 4)\n",
    "# print(f\"Overall AUROC for {code_ae_results_df.shape[0]} test points in fold {fold} = {auroc_val1}\")\n",
    "# print(f\"Overall AUPRC for {code_ae_results_df.shape[0]} test points in fold {fold} = {auprc_val1}\")"
   ]
  },
  {
   "cell_type": "code",
   "execution_count": 72,
   "id": "d9cb9f85-3e02-441a-bfd5-dab41b213f92",
   "metadata": {},
   "outputs": [],
   "source": [
    "# # code-ae results fold 2\n",
    "# fold = 2\n",
    "# print(\"CODE-AE\")\n",
    "# code_ae_results_df = pd.DataFrame()\n",
    "# for d in ['FLUOROURACIL', 'GEMCITABINE', 'PACLITAXEL', 'TEMOZOLOMIDE']:\n",
    "#     subset_df = pd.read_csv(f\"/data/ajayago/papers_data/systematic_assessment/run_files/CODE-AE/saved_model_annotated_mutations/prediction_patients_val_corr_1A_{d}_fold{fold}.csv\", index_col = 0)\n",
    "#     print(subset_df.shape)\n",
    "#     code_ae_results_df = pd.concat([code_ae_results_df, subset_df])\n",
    "# code_ae_results_df[\"sample_id\"] = combined_df_fold2_subset[\"sample_id\"]\n",
    "# code_ae_results_df[\"drug_name\"] = combined_df_fold2_subset[\"drug_name\"]\n",
    "# auroc_val2 = round(roc_auc_score(code_ae_results_df[\"y_true\"], code_ae_results_df[\"y_pred\"]), 4)\n",
    "# auprc_val2 = round(average_precision_score(code_ae_results_df[\"y_true\"], code_ae_results_df[\"y_pred\"]), 4)\n",
    "# pearsonr_val2 = round(pearsonr(code_ae_results_df[\"y_true\"], code_ae_results_df[\"y_pred\"]).statistic, 4)\n",
    "# print(f\"Overall AUROC for {code_ae_results_df.shape[0]} test points in fold {fold} = {auroc_val2}\")\n",
    "# print(f\"Overall AUPRC for {code_ae_results_df.shape[0]} test points in fold {fold} = {auprc_val2}\")"
   ]
  },
  {
   "cell_type": "code",
   "execution_count": 73,
   "id": "0fc12342-278b-4dd5-84ed-f928bd682a74",
   "metadata": {},
   "outputs": [
    {
     "data": {
      "text/plain": [
       "array(['FLUOROURACIL', 'GEMCITABINE', 'PACLITAXEL', 'CISPLATIN',\n",
       "       'TEMOZOLOMIDE'], dtype=object)"
      ]
     },
     "execution_count": 73,
     "metadata": {},
     "output_type": "execute_result"
    }
   ],
   "source": [
    "combined_df_fold0_subset.drug_name.unique()"
   ]
  },
  {
   "cell_type": "code",
   "execution_count": 74,
   "id": "3240002d-07a4-40f1-875e-bc2be213c4d0",
   "metadata": {},
   "outputs": [
    {
     "name": "stdout",
     "output_type": "stream",
     "text": [
      "DiffDRP_v7\n",
      "/data/ajayago/papers_data/DiffDRP_v7/run_files/saved_model_annotated_mutations/prediction_patients_val_corr_2A_ALL_fold0_tuned4FLUOROURACIL.csv\n",
      "/data/ajayago/papers_data/DiffDRP_v7/run_files/saved_model_annotated_mutations/prediction_patients_val_corr_2A_ALL_fold0_tuned4GEMCITABINE.csv\n",
      "/data/ajayago/papers_data/DiffDRP_v7/run_files/saved_model_annotated_mutations/prediction_patients_val_corr_2A_ALL_fold0_tuned4PACLITAXEL.csv\n",
      "/data/ajayago/papers_data/DiffDRP_v7/run_files/saved_model_annotated_mutations/prediction_patients_val_corr_2A_ALL_fold0_tuned4CISPLATIN.csv\n",
      "/data/ajayago/papers_data/DiffDRP_v7/run_files/saved_model_annotated_mutations/prediction_patients_val_corr_2A_ALL_fold0_tuned4TEMOZOLOMIDE.csv\n",
      "(91, 6)\n"
     ]
    },
    {
     "data": {
      "text/html": [
       "<div>\n",
       "<style scoped>\n",
       "    .dataframe tbody tr th:only-of-type {\n",
       "        vertical-align: middle;\n",
       "    }\n",
       "\n",
       "    .dataframe tbody tr th {\n",
       "        vertical-align: top;\n",
       "    }\n",
       "\n",
       "    .dataframe thead th {\n",
       "        text-align: right;\n",
       "    }\n",
       "</style>\n",
       "<table border=\"1\" class=\"dataframe\">\n",
       "  <thead>\n",
       "    <tr style=\"text-align: right;\">\n",
       "      <th></th>\n",
       "      <th>AUROC</th>\n",
       "      <th>AUPRC</th>\n",
       "      <th>pearsonr</th>\n",
       "      <th>pearsonr_pval</th>\n",
       "      <th>method</th>\n",
       "      <th>fold</th>\n",
       "    </tr>\n",
       "  </thead>\n",
       "  <tbody>\n",
       "    <tr>\n",
       "      <th>0</th>\n",
       "      <td>0.7224</td>\n",
       "      <td>0.757</td>\n",
       "      <td>0.370429</td>\n",
       "      <td>0.000301</td>\n",
       "      <td>DiffDRP_v7</td>\n",
       "      <td>0</td>\n",
       "    </tr>\n",
       "  </tbody>\n",
       "</table>\n",
       "</div>"
      ],
      "text/plain": [
       "    AUROC  AUPRC  pearsonr  pearsonr_pval      method  fold\n",
       "0  0.7224  0.757  0.370429       0.000301  DiffDRP_v7     0"
      ]
     },
     "execution_count": 74,
     "metadata": {},
     "output_type": "execute_result"
    }
   ],
   "source": [
    "fold = 0\n",
    "res_df0 = pd.DataFrame()\n",
    "for m in models:\n",
    "    print(m)\n",
    "    if \"DiffDRP\" not in m:\n",
    "        path = f\"{saved_folder}/{m}/saved_model_annotated_mutations/prediction_patients_val_corr_2A_ALL_fold{fold}.csv\"\n",
    "    else:\n",
    "        path = f\"/data/ajayago/papers_data/{m}/run_files/saved_model_annotated_mutations/prediction_patients_val_corr_2A_ALL_fold{fold}_tuned4\"\n",
    "    # if os.path.exists(path):\n",
    "    combined_df = pd.DataFrame()\n",
    "    for d in combined_df_fold0_subset.drug_name.unique():\n",
    "        drug_path = path + f\"{d}.csv\"\n",
    "        print(drug_path)\n",
    "        df = pd.read_csv(drug_path, index_col=0)\n",
    "        combined_df = pd.concat([combined_df, df], axis = 0)\n",
    "    # combined_df = pd.concat([exp2A_fold0[\"test\"][[\"sample_id\", \"drug_name\", \"recist\", \"mappedProject\", \"dataset_name\"]],df], axis=1)\n",
    "    fold_df = pd.merge(combined_df, combined_df_fold0_subset, on=[\"sample_id\", \"drug_name\"])\n",
    "    print(fold_df.shape)\n",
    "    auroc_val = round(roc_auc_score(fold_df[\"y_true\"], fold_df[\"y_pred\"]), 4)\n",
    "    auprc_val = round(average_precision_score(fold_df[\"y_true\"], fold_df[\"y_pred\"]), 4)\n",
    "    pearsonr_val = pearsonr(fold_df[\"y_true\"], fold_df[\"y_pred\"])\n",
    "    res_dict = {\"AUROC\": auroc_val, \"AUPRC\": auprc_val, \"pearsonr\": pearsonr_val.statistic, \"pearsonr_pval\": pearsonr_val.pvalue, \"method\": m, \"fold\": fold}\n",
    "    res_df0 = res_df0._append(res_dict, ignore_index=True)\n",
    "res_df0"
   ]
  },
  {
   "cell_type": "code",
   "execution_count": 75,
   "id": "ae7b839c-12ba-4139-960b-b8b4ee259e55",
   "metadata": {},
   "outputs": [
    {
     "name": "stdout",
     "output_type": "stream",
     "text": [
      "DiffDRP_v7\n",
      "/data/ajayago/papers_data/DiffDRP_v7/run_files/saved_model_annotated_mutations/prediction_patients_val_corr_2A_ALL_fold1_tuned4FLUOROURACIL.csv\n",
      "/data/ajayago/papers_data/DiffDRP_v7/run_files/saved_model_annotated_mutations/prediction_patients_val_corr_2A_ALL_fold1_tuned4GEMCITABINE.csv\n",
      "/data/ajayago/papers_data/DiffDRP_v7/run_files/saved_model_annotated_mutations/prediction_patients_val_corr_2A_ALL_fold1_tuned4PACLITAXEL.csv\n",
      "/data/ajayago/papers_data/DiffDRP_v7/run_files/saved_model_annotated_mutations/prediction_patients_val_corr_2A_ALL_fold1_tuned4CISPLATIN.csv\n",
      "/data/ajayago/papers_data/DiffDRP_v7/run_files/saved_model_annotated_mutations/prediction_patients_val_corr_2A_ALL_fold1_tuned4TEMOZOLOMIDE.csv\n",
      "(92, 6)\n"
     ]
    },
    {
     "data": {
      "text/html": [
       "<div>\n",
       "<style scoped>\n",
       "    .dataframe tbody tr th:only-of-type {\n",
       "        vertical-align: middle;\n",
       "    }\n",
       "\n",
       "    .dataframe tbody tr th {\n",
       "        vertical-align: top;\n",
       "    }\n",
       "\n",
       "    .dataframe thead th {\n",
       "        text-align: right;\n",
       "    }\n",
       "</style>\n",
       "<table border=\"1\" class=\"dataframe\">\n",
       "  <thead>\n",
       "    <tr style=\"text-align: right;\">\n",
       "      <th></th>\n",
       "      <th>AUROC</th>\n",
       "      <th>AUPRC</th>\n",
       "      <th>pearsonr</th>\n",
       "      <th>pearsonr_pval</th>\n",
       "      <th>method</th>\n",
       "      <th>fold</th>\n",
       "    </tr>\n",
       "  </thead>\n",
       "  <tbody>\n",
       "    <tr>\n",
       "      <th>0</th>\n",
       "      <td>0.7106</td>\n",
       "      <td>0.7479</td>\n",
       "      <td>0.311694</td>\n",
       "      <td>0.00249</td>\n",
       "      <td>DiffDRP_v7</td>\n",
       "      <td>1</td>\n",
       "    </tr>\n",
       "  </tbody>\n",
       "</table>\n",
       "</div>"
      ],
      "text/plain": [
       "    AUROC   AUPRC  pearsonr  pearsonr_pval      method  fold\n",
       "0  0.7106  0.7479  0.311694        0.00249  DiffDRP_v7     1"
      ]
     },
     "execution_count": 75,
     "metadata": {},
     "output_type": "execute_result"
    }
   ],
   "source": [
    "fold = 1\n",
    "res_df1 = pd.DataFrame()\n",
    "for m in models:\n",
    "    print(m)\n",
    "    if \"DiffDRP\" not in m:\n",
    "        path = f\"{saved_folder}/{m}/saved_model_annotated_mutations/prediction_patients_val_corr_2A_ALL_fold{fold}.csv\"\n",
    "    else:\n",
    "        path = f\"/data/ajayago/papers_data/{m}/run_files/saved_model_annotated_mutations/prediction_patients_val_corr_2A_ALL_fold{fold}_tuned4\"\n",
    "    # if os.path.exists(path):\n",
    "    combined_df = pd.DataFrame()\n",
    "    for d in combined_df_fold1_subset.drug_name.unique():\n",
    "        drug_path = path + f\"{d}.csv\"\n",
    "        print(drug_path)\n",
    "        df = pd.read_csv(drug_path, index_col=0)\n",
    "        combined_df = pd.concat([combined_df, df], axis = 0)\n",
    "    # combined_df = pd.concat([exp2A_fold0[\"test\"][[\"sample_id\", \"drug_name\", \"recist\", \"mappedProject\", \"dataset_name\"]],df], axis=1)\n",
    "    fold_df = pd.merge(combined_df, combined_df_fold1_subset, on=[\"sample_id\", \"drug_name\"])\n",
    "    print(fold_df.shape)\n",
    "    auroc_val = round(roc_auc_score(fold_df[\"y_true\"], fold_df[\"y_pred\"]), 4)\n",
    "    auprc_val = round(average_precision_score(fold_df[\"y_true\"], fold_df[\"y_pred\"]), 4)\n",
    "    pearsonr_val = pearsonr(fold_df[\"y_true\"], fold_df[\"y_pred\"])\n",
    "    res_dict = {\"AUROC\": auroc_val, \"AUPRC\": auprc_val, \"pearsonr\": pearsonr_val.statistic, \"pearsonr_pval\": pearsonr_val.pvalue, \"method\": m, \"fold\": fold}\n",
    "    res_df1 = res_df1._append(res_dict, ignore_index=True)\n",
    "res_df1"
   ]
  },
  {
   "cell_type": "code",
   "execution_count": 76,
   "id": "92ae0296-62da-4b4e-8746-4e402995928e",
   "metadata": {},
   "outputs": [
    {
     "name": "stdout",
     "output_type": "stream",
     "text": [
      "DiffDRP_v7\n",
      "/data/ajayago/papers_data/DiffDRP_v7/run_files/saved_model_annotated_mutations/prediction_patients_val_corr_2A_ALL_fold2_tuned4FLUOROURACIL.csv\n",
      "/data/ajayago/papers_data/DiffDRP_v7/run_files/saved_model_annotated_mutations/prediction_patients_val_corr_2A_ALL_fold2_tuned4GEMCITABINE.csv\n",
      "/data/ajayago/papers_data/DiffDRP_v7/run_files/saved_model_annotated_mutations/prediction_patients_val_corr_2A_ALL_fold2_tuned4PACLITAXEL.csv\n",
      "/data/ajayago/papers_data/DiffDRP_v7/run_files/saved_model_annotated_mutations/prediction_patients_val_corr_2A_ALL_fold2_tuned4CISPLATIN.csv\n",
      "/data/ajayago/papers_data/DiffDRP_v7/run_files/saved_model_annotated_mutations/prediction_patients_val_corr_2A_ALL_fold2_tuned4TEMOZOLOMIDE.csv\n",
      "(90, 6)\n"
     ]
    },
    {
     "data": {
      "text/html": [
       "<div>\n",
       "<style scoped>\n",
       "    .dataframe tbody tr th:only-of-type {\n",
       "        vertical-align: middle;\n",
       "    }\n",
       "\n",
       "    .dataframe tbody tr th {\n",
       "        vertical-align: top;\n",
       "    }\n",
       "\n",
       "    .dataframe thead th {\n",
       "        text-align: right;\n",
       "    }\n",
       "</style>\n",
       "<table border=\"1\" class=\"dataframe\">\n",
       "  <thead>\n",
       "    <tr style=\"text-align: right;\">\n",
       "      <th></th>\n",
       "      <th>AUROC</th>\n",
       "      <th>AUPRC</th>\n",
       "      <th>pearsonr</th>\n",
       "      <th>pearsonr_pval</th>\n",
       "      <th>method</th>\n",
       "      <th>fold</th>\n",
       "    </tr>\n",
       "  </thead>\n",
       "  <tbody>\n",
       "    <tr>\n",
       "      <th>0</th>\n",
       "      <td>0.7051</td>\n",
       "      <td>0.7461</td>\n",
       "      <td>0.353663</td>\n",
       "      <td>0.000627</td>\n",
       "      <td>DiffDRP_v7</td>\n",
       "      <td>2</td>\n",
       "    </tr>\n",
       "  </tbody>\n",
       "</table>\n",
       "</div>"
      ],
      "text/plain": [
       "    AUROC   AUPRC  pearsonr  pearsonr_pval      method  fold\n",
       "0  0.7051  0.7461  0.353663       0.000627  DiffDRP_v7     2"
      ]
     },
     "execution_count": 76,
     "metadata": {},
     "output_type": "execute_result"
    }
   ],
   "source": [
    "fold = 2\n",
    "res_df2 = pd.DataFrame()\n",
    "for m in models:\n",
    "    print(m)\n",
    "    if \"DiffDRP\" not in m:\n",
    "        path = f\"{saved_folder}/{m}/saved_model_annotated_mutations/prediction_patients_val_corr_2A_ALL_fold{fold}.csv\"\n",
    "    else:\n",
    "        path = f\"/data/ajayago/papers_data/{m}/run_files/saved_model_annotated_mutations/prediction_patients_val_corr_2A_ALL_fold{fold}_tuned4\"\n",
    "    # if os.path.exists(path):\n",
    "    combined_df = pd.DataFrame()\n",
    "    for d in combined_df_fold2_subset.drug_name.unique():\n",
    "        drug_path = path + f\"{d}.csv\"\n",
    "        print(drug_path)\n",
    "        df = pd.read_csv(drug_path, index_col=0)\n",
    "        combined_df = pd.concat([combined_df, df], axis = 0)\n",
    "    # combined_df = pd.concat([exp2A_fold0[\"test\"][[\"sample_id\", \"drug_name\", \"recist\", \"mappedProject\", \"dataset_name\"]],df], axis=1)\n",
    "    fold_df = pd.merge(combined_df, combined_df_fold2_subset, on=[\"sample_id\", \"drug_name\"])\n",
    "    print(fold_df.shape)\n",
    "    auroc_val = round(roc_auc_score(fold_df[\"y_true\"], fold_df[\"y_pred\"]), 4)\n",
    "    auprc_val = round(average_precision_score(fold_df[\"y_true\"], fold_df[\"y_pred\"]), 4)\n",
    "    pearsonr_val = pearsonr(fold_df[\"y_true\"], fold_df[\"y_pred\"])\n",
    "    res_dict = {\"AUROC\": auroc_val, \"AUPRC\": auprc_val, \"pearsonr\": pearsonr_val.statistic, \"pearsonr_pval\": pearsonr_val.pvalue, \"method\": m, \"fold\": fold}\n",
    "    res_df2 = res_df2._append(res_dict, ignore_index=True)\n",
    "res_df2"
   ]
  },
  {
   "cell_type": "code",
   "execution_count": 77,
   "id": "47743e0a-6243-48ba-ab7b-84f939d6d52f",
   "metadata": {},
   "outputs": [
    {
     "data": {
      "text/html": [
       "<div>\n",
       "<style scoped>\n",
       "    .dataframe tbody tr th:only-of-type {\n",
       "        vertical-align: middle;\n",
       "    }\n",
       "\n",
       "    .dataframe tbody tr th {\n",
       "        vertical-align: top;\n",
       "    }\n",
       "\n",
       "    .dataframe thead th {\n",
       "        text-align: right;\n",
       "    }\n",
       "</style>\n",
       "<table border=\"1\" class=\"dataframe\">\n",
       "  <thead>\n",
       "    <tr style=\"text-align: right;\">\n",
       "      <th></th>\n",
       "      <th>AUROC</th>\n",
       "      <th>AUPRC</th>\n",
       "      <th>pearsonr</th>\n",
       "      <th>pearsonr_pval</th>\n",
       "      <th>method</th>\n",
       "      <th>fold</th>\n",
       "    </tr>\n",
       "  </thead>\n",
       "  <tbody>\n",
       "    <tr>\n",
       "      <th>0</th>\n",
       "      <td>0.7224</td>\n",
       "      <td>0.7570</td>\n",
       "      <td>0.370429</td>\n",
       "      <td>0.000301</td>\n",
       "      <td>DiffDRP_v7</td>\n",
       "      <td>0</td>\n",
       "    </tr>\n",
       "    <tr>\n",
       "      <th>0</th>\n",
       "      <td>0.7106</td>\n",
       "      <td>0.7479</td>\n",
       "      <td>0.311694</td>\n",
       "      <td>0.002490</td>\n",
       "      <td>DiffDRP_v7</td>\n",
       "      <td>1</td>\n",
       "    </tr>\n",
       "    <tr>\n",
       "      <th>0</th>\n",
       "      <td>0.7051</td>\n",
       "      <td>0.7461</td>\n",
       "      <td>0.353663</td>\n",
       "      <td>0.000627</td>\n",
       "      <td>DiffDRP_v7</td>\n",
       "      <td>2</td>\n",
       "    </tr>\n",
       "  </tbody>\n",
       "</table>\n",
       "</div>"
      ],
      "text/plain": [
       "    AUROC   AUPRC  pearsonr  pearsonr_pval      method  fold\n",
       "0  0.7224  0.7570  0.370429       0.000301  DiffDRP_v7     0\n",
       "0  0.7106  0.7479  0.311694       0.002490  DiffDRP_v7     1\n",
       "0  0.7051  0.7461  0.353663       0.000627  DiffDRP_v7     2"
      ]
     },
     "execution_count": 77,
     "metadata": {},
     "output_type": "execute_result"
    }
   ],
   "source": [
    "all_folds_df = pd.concat([res_df0, res_df1, res_df2])\n",
    "all_folds_df"
   ]
  },
  {
   "cell_type": "code",
   "execution_count": 78,
   "id": "0cc4a561-13b9-4b55-94d0-672ed7590947",
   "metadata": {},
   "outputs": [],
   "source": [
    "# code_ae_dict = [\n",
    "#     {\"AUROC\": auroc_val0, \"AUPRC\": auprc_val0, \"method\": \"CODE-AE\", \"fold\": 0, \"pearsonr\": pearsonr_val0},\n",
    "#     {\"AUROC\": auroc_val1, \"AUPRC\": auprc_val1, \"method\": \"CODE-AE\", \"fold\": 1, \"pearsonr\": pearsonr_val1},\n",
    "#     {\"AUROC\": auroc_val2, \"AUPRC\": auprc_val2, \"method\": \"CODE-AE\", \"fold\": 2, \"pearsonr\": pearsonr_val2},\n",
    "# ]\n",
    "# for i in range(len(code_ae_dict)):\n",
    "#     all_folds_df = all_folds_df._append(code_ae_dict)\n",
    "# all_folds_df"
   ]
  },
  {
   "cell_type": "code",
   "execution_count": 79,
   "id": "c8e90d7a-8814-4209-8df2-ab3b3268cd7e",
   "metadata": {},
   "outputs": [
    {
     "data": {
      "text/html": [
       "<div>\n",
       "<style scoped>\n",
       "    .dataframe tbody tr th:only-of-type {\n",
       "        vertical-align: middle;\n",
       "    }\n",
       "\n",
       "    .dataframe tbody tr th {\n",
       "        vertical-align: top;\n",
       "    }\n",
       "\n",
       "    .dataframe thead th {\n",
       "        text-align: right;\n",
       "    }\n",
       "</style>\n",
       "<table border=\"1\" class=\"dataframe\">\n",
       "  <thead>\n",
       "    <tr style=\"text-align: right;\">\n",
       "      <th></th>\n",
       "      <th>AUROC</th>\n",
       "      <th>AUPRC</th>\n",
       "      <th>pearsonr</th>\n",
       "      <th>pearsonr_pval</th>\n",
       "      <th>fold</th>\n",
       "    </tr>\n",
       "    <tr>\n",
       "      <th>method</th>\n",
       "      <th></th>\n",
       "      <th></th>\n",
       "      <th></th>\n",
       "      <th></th>\n",
       "      <th></th>\n",
       "    </tr>\n",
       "  </thead>\n",
       "  <tbody>\n",
       "    <tr>\n",
       "      <th>DiffDRP_v7</th>\n",
       "      <td>0.7127</td>\n",
       "      <td>0.750333</td>\n",
       "      <td>0.345262</td>\n",
       "      <td>0.00114</td>\n",
       "      <td>1.0</td>\n",
       "    </tr>\n",
       "  </tbody>\n",
       "</table>\n",
       "</div>"
      ],
      "text/plain": [
       "             AUROC     AUPRC  pearsonr  pearsonr_pval  fold\n",
       "method                                                     \n",
       "DiffDRP_v7  0.7127  0.750333  0.345262        0.00114   1.0"
      ]
     },
     "execution_count": 79,
     "metadata": {},
     "output_type": "execute_result"
    }
   ],
   "source": [
    "all_folds_df.groupby([\"method\"]).agg(\"mean\")"
   ]
  },
  {
   "cell_type": "code",
   "execution_count": 80,
   "id": "01ff160a-5e91-435b-8265-dc5fea90810c",
   "metadata": {},
   "outputs": [
    {
     "name": "stderr",
     "output_type": "stream",
     "text": [
      "/tmp/ipykernel_35717/1630526733.py:1: FutureWarning: The provided callable <function std at 0x7fc0601c9630> is currently using DataFrameGroupBy.std. In a future version of pandas, the provided callable will be used directly. To keep current behavior pass the string \"std\" instead.\n",
      "  all_folds_df.groupby([\"method\"]).agg(np.std)\n"
     ]
    },
    {
     "data": {
      "text/html": [
       "<div>\n",
       "<style scoped>\n",
       "    .dataframe tbody tr th:only-of-type {\n",
       "        vertical-align: middle;\n",
       "    }\n",
       "\n",
       "    .dataframe tbody tr th {\n",
       "        vertical-align: top;\n",
       "    }\n",
       "\n",
       "    .dataframe thead th {\n",
       "        text-align: right;\n",
       "    }\n",
       "</style>\n",
       "<table border=\"1\" class=\"dataframe\">\n",
       "  <thead>\n",
       "    <tr style=\"text-align: right;\">\n",
       "      <th></th>\n",
       "      <th>AUROC</th>\n",
       "      <th>AUPRC</th>\n",
       "      <th>pearsonr</th>\n",
       "      <th>pearsonr_pval</th>\n",
       "      <th>fold</th>\n",
       "    </tr>\n",
       "    <tr>\n",
       "      <th>method</th>\n",
       "      <th></th>\n",
       "      <th></th>\n",
       "      <th></th>\n",
       "      <th></th>\n",
       "      <th></th>\n",
       "    </tr>\n",
       "  </thead>\n",
       "  <tbody>\n",
       "    <tr>\n",
       "      <th>DiffDRP_v7</th>\n",
       "      <td>0.008839</td>\n",
       "      <td>0.005843</td>\n",
       "      <td>0.030255</td>\n",
       "      <td>0.001181</td>\n",
       "      <td>1.0</td>\n",
       "    </tr>\n",
       "  </tbody>\n",
       "</table>\n",
       "</div>"
      ],
      "text/plain": [
       "               AUROC     AUPRC  pearsonr  pearsonr_pval  fold\n",
       "method                                                       \n",
       "DiffDRP_v7  0.008839  0.005843  0.030255       0.001181   1.0"
      ]
     },
     "execution_count": 80,
     "metadata": {},
     "output_type": "execute_result"
    }
   ],
   "source": [
    "all_folds_df.groupby([\"method\"]).agg(np.std)"
   ]
  },
  {
   "cell_type": "code",
   "execution_count": null,
   "id": "96519f05-4e43-4cf3-91bc-620b2523ed9c",
   "metadata": {},
   "outputs": [],
   "source": []
  },
  {
   "cell_type": "code",
   "execution_count": null,
   "id": "96fe35c8-b63f-4548-8e99-cd859ca00c40",
   "metadata": {},
   "outputs": [],
   "source": []
  }
 ],
 "metadata": {
  "kernelspec": {
   "display_name": "Python [conda env:systematic_assessment] *",
   "language": "python",
   "name": "conda-env-systematic_assessment-py"
  },
  "language_info": {
   "codemirror_mode": {
    "name": "ipython",
    "version": 3
   },
   "file_extension": ".py",
   "mimetype": "text/x-python",
   "name": "python",
   "nbconvert_exporter": "python",
   "pygments_lexer": "ipython3",
   "version": "3.10.14"
  }
 },
 "nbformat": 4,
 "nbformat_minor": 5
}
