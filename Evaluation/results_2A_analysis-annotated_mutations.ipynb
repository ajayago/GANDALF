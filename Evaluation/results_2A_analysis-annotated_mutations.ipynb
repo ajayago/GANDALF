{
 "cells": [
  {
   "cell_type": "code",
   "execution_count": 2,
   "id": "01184cb1-4cc1-4e87-98b3-55e21950e2e9",
   "metadata": {},
   "outputs": [],
   "source": [
    "import pandas as pd\n",
    "import numpy as np\n",
    "import seaborn as sns\n",
    "import matplotlib.pyplot as plt"
   ]
  },
  {
   "cell_type": "code",
   "execution_count": 3,
   "id": "187db9e7-0973-4680-bfc0-c41f7ef5e3c4",
   "metadata": {},
   "outputs": [],
   "source": [
    "import os"
   ]
  },
  {
   "cell_type": "code",
   "execution_count": 4,
   "id": "2502892b-0e68-486d-91a7-7a0777b004f0",
   "metadata": {},
   "outputs": [],
   "source": [
    "import pickle"
   ]
  },
  {
   "cell_type": "code",
   "execution_count": 5,
   "id": "d03f0aeb-49a8-4a38-a871-67094df9b4d6",
   "metadata": {},
   "outputs": [],
   "source": [
    "from sklearn.metrics import roc_auc_score, average_precision_score"
   ]
  },
  {
   "cell_type": "code",
   "execution_count": 6,
   "id": "fdc1e07f-7010-4d4a-a49b-5671b02151a0",
   "metadata": {},
   "outputs": [],
   "source": [
    "from scipy.stats import pearsonr, spearmanr"
   ]
  },
  {
   "cell_type": "code",
   "execution_count": 7,
   "id": "c14d0467-3b63-4cbf-af27-ebb5623f4672",
   "metadata": {},
   "outputs": [],
   "source": [
    "saved_folder = \"/data//papers_data/systematic_assessment/run_files/\""
   ]
  },
  {
   "cell_type": "code",
   "execution_count": 8,
   "id": "a395ab76-bcd0-42d8-bbea-42d51c6aa474",
   "metadata": {},
   "outputs": [],
   "source": [
    "models = [\n",
    "    # \"DruID\",\n",
    "    # \"drug2tme\",\n",
    "    # \"PANCDR\",\n",
    "    # \"PREDICT-AI\",\n",
    "    \"DiffDRP_v7\", # another name for GANDALF\n",
    "]"
   ]
  },
  {
   "cell_type": "markdown",
   "id": "1a3642d3-d08e-4c9d-8eaa-0646316c92ea",
   "metadata": {},
   "source": [
    "### Annotated mutations"
   ]
  },
  {
   "cell_type": "code",
   "execution_count": 9,
   "id": "48890df9-c55c-4603-b29e-a4b5d7078200",
   "metadata": {},
   "outputs": [],
   "source": [
    "with open(\"/data//papers_data/systematic_assessment/input_types/annotated_mutations/Experiment2/SettingA/patients_fold0_processed.pkl\", \"rb\") as f:\n",
    "    exp2A_fold0 = pickle.load(f)\n",
    "\n",
    "with open(\"/data//papers_data/systematic_assessment/input_types/annotated_mutations/Experiment2/SettingA/patients_fold1_processed.pkl\", \"rb\") as f:\n",
    "    exp2A_fold1 = pickle.load(f)\n",
    "\n",
    "with open(\"/data//papers_data/systematic_assessment/input_types/annotated_mutations/Experiment2/SettingA/patients_fold2_processed.pkl\", \"rb\") as f:\n",
    "    exp2A_fold2 = pickle.load(f)"
   ]
  },
  {
   "cell_type": "code",
   "execution_count": 10,
   "id": "2e327f39-717f-4ad5-b802-aef60fb968c7",
   "metadata": {},
   "outputs": [
    {
     "data": {
      "text/plain": [
       "array(['BUPARLISIB', 'CISPLATIN', 'FLUOROURACIL', 'GEMCITABINE',\n",
       "       'PACLITAXEL', 'SORAFENIB', 'TEMOZOLOMIDE'], dtype=object)"
      ]
     },
     "execution_count": 10,
     "metadata": {},
     "output_type": "execute_result"
    }
   ],
   "source": [
    "exp2A_fold0[\"test\"].drug_name.unique()"
   ]
  },
  {
   "cell_type": "code",
   "execution_count": 11,
   "id": "95815c8c-4af7-47b7-b315-0598dcf54f72",
   "metadata": {},
   "outputs": [
    {
     "data": {
      "text/plain": [
       "recist\n",
       "0    67\n",
       "1    48\n",
       "Name: count, dtype: int64"
      ]
     },
     "execution_count": 11,
     "metadata": {},
     "output_type": "execute_result"
    }
   ],
   "source": [
    "exp2A_fold0[\"test\"].recist.value_counts()"
   ]
  },
  {
   "cell_type": "code",
   "execution_count": 12,
   "id": "e62b7b84-6617-442a-bdbd-af8232178f63",
   "metadata": {},
   "outputs": [
    {
     "data": {
      "text/plain": [
       "recist\n",
       "0    66\n",
       "1    48\n",
       "Name: count, dtype: int64"
      ]
     },
     "execution_count": 12,
     "metadata": {},
     "output_type": "execute_result"
    }
   ],
   "source": [
    "exp2A_fold1[\"test\"].recist.value_counts()"
   ]
  },
  {
   "cell_type": "code",
   "execution_count": 13,
   "id": "420fc933-e800-466b-9c51-ee65a3e4934e",
   "metadata": {},
   "outputs": [
    {
     "data": {
      "text/plain": [
       "recist\n",
       "0    64\n",
       "1    49\n",
       "Name: count, dtype: int64"
      ]
     },
     "execution_count": 13,
     "metadata": {},
     "output_type": "execute_result"
    }
   ],
   "source": [
    "exp2A_fold2[\"test\"].recist.value_counts()"
   ]
  },
  {
   "cell_type": "code",
   "execution_count": 14,
   "id": "a6c20cdf-21e4-442d-be5f-09ac53d5810b",
   "metadata": {},
   "outputs": [
    {
     "data": {
      "text/plain": [
       "drug_name\n",
       "TEMOZOLOMIDE    30\n",
       "CISPLATIN       27\n",
       "SORAFENIB       15\n",
       "GEMCITABINE     14\n",
       "FLUOROURACIL    12\n",
       "BUPARLISIB       9\n",
       "PACLITAXEL       8\n",
       "Name: count, dtype: int64"
      ]
     },
     "execution_count": 14,
     "metadata": {},
     "output_type": "execute_result"
    }
   ],
   "source": [
    "exp2A_fold0[\"test\"].drug_name.value_counts()"
   ]
  },
  {
   "cell_type": "markdown",
   "id": "c53fc7a9-e218-4333-9ec3-d80373bf42a0",
   "metadata": {},
   "source": [
    "#### Drug based results"
   ]
  },
  {
   "cell_type": "code",
   "execution_count": 15,
   "id": "a3cb694d-c355-4e40-8d35-b853ec130014",
   "metadata": {},
   "outputs": [
    {
     "data": {
      "text/html": [
       "<div>\n",
       "<style scoped>\n",
       "    .dataframe tbody tr th:only-of-type {\n",
       "        vertical-align: middle;\n",
       "    }\n",
       "\n",
       "    .dataframe tbody tr th {\n",
       "        vertical-align: top;\n",
       "    }\n",
       "\n",
       "    .dataframe thead th {\n",
       "        text-align: right;\n",
       "    }\n",
       "</style>\n",
       "<table border=\"1\" class=\"dataframe\">\n",
       "  <thead>\n",
       "    <tr style=\"text-align: right;\">\n",
       "      <th></th>\n",
       "      <th>drug_name</th>\n",
       "      <th>AUROC</th>\n",
       "      <th>AUPRC</th>\n",
       "      <th>pearsonr</th>\n",
       "      <th>pearsonr_pval</th>\n",
       "      <th>method</th>\n",
       "      <th>fold</th>\n",
       "    </tr>\n",
       "  </thead>\n",
       "  <tbody>\n",
       "    <tr>\n",
       "      <th>0</th>\n",
       "      <td>CISPLATIN</td>\n",
       "      <td>0.6304</td>\n",
       "      <td>0.9317</td>\n",
       "      <td>-0.002110</td>\n",
       "      <td>0.991667</td>\n",
       "      <td>DiffDRP_v7</td>\n",
       "      <td>0</td>\n",
       "    </tr>\n",
       "    <tr>\n",
       "      <th>1</th>\n",
       "      <td>FLUOROURACIL</td>\n",
       "      <td>0.6571</td>\n",
       "      <td>0.7406</td>\n",
       "      <td>0.378179</td>\n",
       "      <td>0.225467</td>\n",
       "      <td>DiffDRP_v7</td>\n",
       "      <td>0</td>\n",
       "    </tr>\n",
       "    <tr>\n",
       "      <th>2</th>\n",
       "      <td>GEMCITABINE</td>\n",
       "      <td>0.6667</td>\n",
       "      <td>0.6541</td>\n",
       "      <td>0.325246</td>\n",
       "      <td>0.256503</td>\n",
       "      <td>DiffDRP_v7</td>\n",
       "      <td>0</td>\n",
       "    </tr>\n",
       "    <tr>\n",
       "      <th>3</th>\n",
       "      <td>PACLITAXEL</td>\n",
       "      <td>0.7143</td>\n",
       "      <td>0.9617</td>\n",
       "      <td>-0.075306</td>\n",
       "      <td>0.859334</td>\n",
       "      <td>DiffDRP_v7</td>\n",
       "      <td>0</td>\n",
       "    </tr>\n",
       "    <tr>\n",
       "      <th>4</th>\n",
       "      <td>SORAFENIB</td>\n",
       "      <td>0.1429</td>\n",
       "      <td>0.0769</td>\n",
       "      <td>-0.276780</td>\n",
       "      <td>0.317961</td>\n",
       "      <td>DiffDRP_v7</td>\n",
       "      <td>0</td>\n",
       "    </tr>\n",
       "    <tr>\n",
       "      <th>5</th>\n",
       "      <td>TEMOZOLOMIDE</td>\n",
       "      <td>0.6923</td>\n",
       "      <td>0.2541</td>\n",
       "      <td>0.234628</td>\n",
       "      <td>0.212026</td>\n",
       "      <td>DiffDRP_v7</td>\n",
       "      <td>0</td>\n",
       "    </tr>\n",
       "  </tbody>\n",
       "</table>\n",
       "</div>"
      ],
      "text/plain": [
       "      drug_name   AUROC   AUPRC  pearsonr  pearsonr_pval      method  fold\n",
       "0     CISPLATIN  0.6304  0.9317 -0.002110       0.991667  DiffDRP_v7     0\n",
       "1  FLUOROURACIL  0.6571  0.7406  0.378179       0.225467  DiffDRP_v7     0\n",
       "2   GEMCITABINE  0.6667  0.6541  0.325246       0.256503  DiffDRP_v7     0\n",
       "3    PACLITAXEL  0.7143  0.9617 -0.075306       0.859334  DiffDRP_v7     0\n",
       "4     SORAFENIB  0.1429  0.0769 -0.276780       0.317961  DiffDRP_v7     0\n",
       "5  TEMOZOLOMIDE  0.6923  0.2541  0.234628       0.212026  DiffDRP_v7     0"
      ]
     },
     "execution_count": 15,
     "metadata": {},
     "output_type": "execute_result"
    }
   ],
   "source": [
    "# fold 0\n",
    "fold = 0\n",
    "res_df0 = pd.DataFrame()\n",
    "for m in models:\n",
    "    # print(m)\n",
    "    if \"DiffDRP\" not in m:\n",
    "        path = f\"{saved_folder}/{m}/saved_model_annotated_mutations/prediction_patients_val_corr_2A_ALL_fold{fold}.csv\"\n",
    "    else:\n",
    "        path = f\"/data//papers_data/{m}/run_files/saved_model_annotated_mutations/prediction_patients_val_corr_2A_ALL_fold{fold}.csv\"\n",
    "    if os.path.exists(path):\n",
    "        df = pd.read_csv(path, index_col=0)\n",
    "        combined_df = pd.concat([exp2A_fold0[\"test\"][[\"sample_id\", \"drug_name\", \"recist\", \"mappedProject\", \"dataset_name\"]],df], axis=1)\n",
    "        for d in combined_df.drug_name.unique():\n",
    "            if d in [\"FLUOROURACIL\", \"GEMCITABINE\", \"PACLITAXEL\", \"TEMOZOLOMIDE\", \"CISPLATIN\"]:\n",
    "                subset_df = pd.read_csv(f\"/data//papers_data/{m}/run_files/saved_model_annotated_mutations/prediction_patients_val_corr_2A_ALL_fold{fold}_tuned4{d}.csv\")\n",
    "            else:\n",
    "                subset_df = combined_df[combined_df.drug_name == d]\n",
    "            if len(subset_df[\"y_true\"].value_counts()) >= 2: # both classes available\n",
    "                auroc_val = round(roc_auc_score(subset_df[\"y_true\"], subset_df[\"y_pred\"]), 4)\n",
    "                auprc_val = round(average_precision_score(subset_df[\"y_true\"], subset_df[\"y_pred\"]), 4)\n",
    "                pearsonr_val = pearsonr(subset_df[\"y_true\"], subset_df[\"y_pred\"])\n",
    "                # print(f\"Drug Name: {d}\")\n",
    "                # print(f\"AUROC = {auroc_val}\")\n",
    "                # print(f\"AUPRC = {auprc_val}\")\n",
    "                res_dict = {\"drug_name\": d, \"AUROC\": auroc_val, \"AUPRC\": auprc_val, \"pearsonr\": pearsonr_val.statistic, \"pearsonr_pval\": pearsonr_val.pvalue, \"method\": m, \"fold\": fold}\n",
    "                res_df0 = res_df0._append(res_dict, ignore_index=True)\n",
    "res_df0"
   ]
  },
  {
   "cell_type": "code",
   "execution_count": 16,
   "id": "ecc0e894-d6a9-4877-9683-ca00771f1266",
   "metadata": {},
   "outputs": [
    {
     "data": {
      "text/html": [
       "<div>\n",
       "<style scoped>\n",
       "    .dataframe tbody tr th:only-of-type {\n",
       "        vertical-align: middle;\n",
       "    }\n",
       "\n",
       "    .dataframe tbody tr th {\n",
       "        vertical-align: top;\n",
       "    }\n",
       "\n",
       "    .dataframe thead th {\n",
       "        text-align: right;\n",
       "    }\n",
       "</style>\n",
       "<table border=\"1\" class=\"dataframe\">\n",
       "  <thead>\n",
       "    <tr style=\"text-align: right;\">\n",
       "      <th>drug_name</th>\n",
       "      <th>CISPLATIN</th>\n",
       "      <th>FLUOROURACIL</th>\n",
       "      <th>GEMCITABINE</th>\n",
       "      <th>PACLITAXEL</th>\n",
       "      <th>SORAFENIB</th>\n",
       "      <th>TEMOZOLOMIDE</th>\n",
       "    </tr>\n",
       "    <tr>\n",
       "      <th>method</th>\n",
       "      <th></th>\n",
       "      <th></th>\n",
       "      <th></th>\n",
       "      <th></th>\n",
       "      <th></th>\n",
       "      <th></th>\n",
       "    </tr>\n",
       "  </thead>\n",
       "  <tbody>\n",
       "    <tr>\n",
       "      <th>DiffDRP_v7</th>\n",
       "      <td>0.6304</td>\n",
       "      <td>0.6571</td>\n",
       "      <td>0.6667</td>\n",
       "      <td>0.7143</td>\n",
       "      <td>0.1429</td>\n",
       "      <td>0.6923</td>\n",
       "    </tr>\n",
       "  </tbody>\n",
       "</table>\n",
       "</div>"
      ],
      "text/plain": [
       "drug_name   CISPLATIN  FLUOROURACIL  GEMCITABINE  PACLITAXEL  SORAFENIB  \\\n",
       "method                                                                    \n",
       "DiffDRP_v7     0.6304        0.6571       0.6667      0.7143     0.1429   \n",
       "\n",
       "drug_name   TEMOZOLOMIDE  \n",
       "method                    \n",
       "DiffDRP_v7        0.6923  "
      ]
     },
     "execution_count": 16,
     "metadata": {},
     "output_type": "execute_result"
    }
   ],
   "source": [
    "res_df0.pivot_table(index=\"method\", values=\"AUROC\", columns=\"drug_name\", aggfunc=\"mean\") # AUROC"
   ]
  },
  {
   "cell_type": "code",
   "execution_count": 17,
   "id": "eb3dbd2a-63f2-4e65-ae04-69dea24c9d57",
   "metadata": {},
   "outputs": [
    {
     "data": {
      "text/html": [
       "<div>\n",
       "<style scoped>\n",
       "    .dataframe tbody tr th:only-of-type {\n",
       "        vertical-align: middle;\n",
       "    }\n",
       "\n",
       "    .dataframe tbody tr th {\n",
       "        vertical-align: top;\n",
       "    }\n",
       "\n",
       "    .dataframe thead th {\n",
       "        text-align: right;\n",
       "    }\n",
       "</style>\n",
       "<table border=\"1\" class=\"dataframe\">\n",
       "  <thead>\n",
       "    <tr style=\"text-align: right;\">\n",
       "      <th>drug_name</th>\n",
       "      <th>CISPLATIN</th>\n",
       "      <th>FLUOROURACIL</th>\n",
       "      <th>GEMCITABINE</th>\n",
       "      <th>PACLITAXEL</th>\n",
       "      <th>SORAFENIB</th>\n",
       "      <th>TEMOZOLOMIDE</th>\n",
       "    </tr>\n",
       "    <tr>\n",
       "      <th>method</th>\n",
       "      <th></th>\n",
       "      <th></th>\n",
       "      <th></th>\n",
       "      <th></th>\n",
       "      <th></th>\n",
       "      <th></th>\n",
       "    </tr>\n",
       "  </thead>\n",
       "  <tbody>\n",
       "    <tr>\n",
       "      <th>DiffDRP_v7</th>\n",
       "      <td>0.9317</td>\n",
       "      <td>0.7406</td>\n",
       "      <td>0.6541</td>\n",
       "      <td>0.9617</td>\n",
       "      <td>0.0769</td>\n",
       "      <td>0.2541</td>\n",
       "    </tr>\n",
       "  </tbody>\n",
       "</table>\n",
       "</div>"
      ],
      "text/plain": [
       "drug_name   CISPLATIN  FLUOROURACIL  GEMCITABINE  PACLITAXEL  SORAFENIB  \\\n",
       "method                                                                    \n",
       "DiffDRP_v7     0.9317        0.7406       0.6541      0.9617     0.0769   \n",
       "\n",
       "drug_name   TEMOZOLOMIDE  \n",
       "method                    \n",
       "DiffDRP_v7        0.2541  "
      ]
     },
     "execution_count": 17,
     "metadata": {},
     "output_type": "execute_result"
    }
   ],
   "source": [
    "res_df0.pivot_table(index=\"method\", values=\"AUPRC\", columns=\"drug_name\") # AUPRC"
   ]
  },
  {
   "cell_type": "code",
   "execution_count": 18,
   "id": "83a1f503-b4a4-480a-9bbc-8efa64cd26b1",
   "metadata": {},
   "outputs": [
    {
     "data": {
      "text/plain": [
       "drug_name     recist\n",
       "TEMOZOLOMIDE  0         26\n",
       "CISPLATIN     1         23\n",
       "SORAFENIB     0         14\n",
       "BUPARLISIB    0          9\n",
       "GEMCITABINE   0          8\n",
       "FLUOROURACIL  1          7\n",
       "PACLITAXEL    1          7\n",
       "GEMCITABINE   1          6\n",
       "FLUOROURACIL  0          5\n",
       "CISPLATIN     0          4\n",
       "TEMOZOLOMIDE  1          4\n",
       "PACLITAXEL    0          1\n",
       "SORAFENIB     1          1\n",
       "Name: count, dtype: int64"
      ]
     },
     "execution_count": 18,
     "metadata": {},
     "output_type": "execute_result"
    }
   ],
   "source": [
    "exp2A_fold0[\"test\"][[\"sample_id\", \"drug_name\", \"recist\", \"mappedProject\", \"dataset_name\"]][[\"drug_name\", \"recist\"]].value_counts()"
   ]
  },
  {
   "cell_type": "code",
   "execution_count": 19,
   "id": "a96d2b0e-f204-4d4b-97da-3c6deb783490",
   "metadata": {},
   "outputs": [
    {
     "data": {
      "text/html": [
       "<div>\n",
       "<style scoped>\n",
       "    .dataframe tbody tr th:only-of-type {\n",
       "        vertical-align: middle;\n",
       "    }\n",
       "\n",
       "    .dataframe tbody tr th {\n",
       "        vertical-align: top;\n",
       "    }\n",
       "\n",
       "    .dataframe thead th {\n",
       "        text-align: right;\n",
       "    }\n",
       "</style>\n",
       "<table border=\"1\" class=\"dataframe\">\n",
       "  <thead>\n",
       "    <tr style=\"text-align: right;\">\n",
       "      <th></th>\n",
       "      <th>drug_name</th>\n",
       "      <th>AUROC</th>\n",
       "      <th>AUPRC</th>\n",
       "      <th>pearsonr</th>\n",
       "      <th>pearsonr_pval</th>\n",
       "      <th>method</th>\n",
       "      <th>fold</th>\n",
       "    </tr>\n",
       "  </thead>\n",
       "  <tbody>\n",
       "    <tr>\n",
       "      <th>0</th>\n",
       "      <td>BUPARLISIB</td>\n",
       "      <td>0.8750</td>\n",
       "      <td>0.5000</td>\n",
       "      <td>0.263912</td>\n",
       "      <td>0.492597</td>\n",
       "      <td>DiffDRP_v7</td>\n",
       "      <td>1</td>\n",
       "    </tr>\n",
       "    <tr>\n",
       "      <th>1</th>\n",
       "      <td>CISPLATIN</td>\n",
       "      <td>0.6058</td>\n",
       "      <td>0.9279</td>\n",
       "      <td>0.059161</td>\n",
       "      <td>0.756149</td>\n",
       "      <td>DiffDRP_v7</td>\n",
       "      <td>1</td>\n",
       "    </tr>\n",
       "    <tr>\n",
       "      <th>2</th>\n",
       "      <td>FLUOROURACIL</td>\n",
       "      <td>0.7857</td>\n",
       "      <td>0.9038</td>\n",
       "      <td>0.428056</td>\n",
       "      <td>0.189044</td>\n",
       "      <td>DiffDRP_v7</td>\n",
       "      <td>1</td>\n",
       "    </tr>\n",
       "    <tr>\n",
       "      <th>3</th>\n",
       "      <td>GEMCITABINE</td>\n",
       "      <td>0.5417</td>\n",
       "      <td>0.3889</td>\n",
       "      <td>0.108924</td>\n",
       "      <td>0.749881</td>\n",
       "      <td>DiffDRP_v7</td>\n",
       "      <td>1</td>\n",
       "    </tr>\n",
       "    <tr>\n",
       "      <th>4</th>\n",
       "      <td>PACLITAXEL</td>\n",
       "      <td>0.6875</td>\n",
       "      <td>0.9294</td>\n",
       "      <td>0.224748</td>\n",
       "      <td>0.532454</td>\n",
       "      <td>DiffDRP_v7</td>\n",
       "      <td>1</td>\n",
       "    </tr>\n",
       "    <tr>\n",
       "      <th>5</th>\n",
       "      <td>TEMOZOLOMIDE</td>\n",
       "      <td>0.5556</td>\n",
       "      <td>0.2527</td>\n",
       "      <td>0.047910</td>\n",
       "      <td>0.801498</td>\n",
       "      <td>DiffDRP_v7</td>\n",
       "      <td>1</td>\n",
       "    </tr>\n",
       "  </tbody>\n",
       "</table>\n",
       "</div>"
      ],
      "text/plain": [
       "      drug_name   AUROC   AUPRC  pearsonr  pearsonr_pval      method  fold\n",
       "0    BUPARLISIB  0.8750  0.5000  0.263912       0.492597  DiffDRP_v7     1\n",
       "1     CISPLATIN  0.6058  0.9279  0.059161       0.756149  DiffDRP_v7     1\n",
       "2  FLUOROURACIL  0.7857  0.9038  0.428056       0.189044  DiffDRP_v7     1\n",
       "3   GEMCITABINE  0.5417  0.3889  0.108924       0.749881  DiffDRP_v7     1\n",
       "4    PACLITAXEL  0.6875  0.9294  0.224748       0.532454  DiffDRP_v7     1\n",
       "5  TEMOZOLOMIDE  0.5556  0.2527  0.047910       0.801498  DiffDRP_v7     1"
      ]
     },
     "execution_count": 19,
     "metadata": {},
     "output_type": "execute_result"
    }
   ],
   "source": [
    "# fold 1\n",
    "fold = 1\n",
    "res_df1 = pd.DataFrame()\n",
    "for m in models:\n",
    "    # print(m)\n",
    "    if \"DiffDRP\" not in m:\n",
    "        path = f\"{saved_folder}/{m}/saved_model_annotated_mutations/prediction_patients_val_corr_2A_ALL_fold{fold}.csv\"\n",
    "    else:\n",
    "        path = f\"/data//papers_data/{m}/run_files/saved_model_annotated_mutations/prediction_patients_val_corr_2A_ALL_fold{fold}.csv\"\n",
    "    if os.path.exists(path):\n",
    "        df = pd.read_csv(path, index_col=0)\n",
    "        combined_df = pd.concat([exp2A_fold1[\"test\"][[\"sample_id\", \"drug_name\", \"recist\", \"mappedProject\", \"dataset_name\"]],df], axis=1)\n",
    "        for d in combined_df.drug_name.unique():\n",
    "            if d in [\"FLUOROURACIL\", \"GEMCITABINE\", \"PACLITAXEL\", \"TEMOZOLOMIDE\", \"CISPLATIN\"]:\n",
    "                subset_df = pd.read_csv(f\"/data//papers_data/{m}/run_files/saved_model_annotated_mutations/prediction_patients_val_corr_2A_ALL_fold{fold}_tuned4{d}.csv\")\n",
    "            else:\n",
    "                subset_df = combined_df[combined_df.drug_name == d]\n",
    "            if len(subset_df[\"y_true\"].value_counts()) >= 2: # both classes available\n",
    "                auroc_val = round(roc_auc_score(subset_df[\"y_true\"], subset_df[\"y_pred\"]), 4)\n",
    "                auprc_val = round(average_precision_score(subset_df[\"y_true\"], subset_df[\"y_pred\"]), 4)\n",
    "                pearsonr_val = pearsonr(subset_df[\"y_true\"], subset_df[\"y_pred\"])\n",
    "                # print(f\"Drug Name: {d}\")\n",
    "                # print(f\"AUROC = {auroc_val}\")\n",
    "                # print(f\"AUPRC = {auprc_val}\")\n",
    "                res_dict = {\"drug_name\": d, \"AUROC\": auroc_val, \"AUPRC\": auprc_val, \"pearsonr\": pearsonr_val.statistic, \"pearsonr_pval\": pearsonr_val.pvalue, \"method\": m, \"fold\": fold}\n",
    "                res_df1 = res_df1._append(res_dict, ignore_index=True)\n",
    "res_df1\n",
    "            "
   ]
  },
  {
   "cell_type": "code",
   "execution_count": 20,
   "id": "8b1f37a5-162d-4d73-8003-fdc3a41e8a76",
   "metadata": {},
   "outputs": [
    {
     "data": {
      "text/html": [
       "<div>\n",
       "<style scoped>\n",
       "    .dataframe tbody tr th:only-of-type {\n",
       "        vertical-align: middle;\n",
       "    }\n",
       "\n",
       "    .dataframe tbody tr th {\n",
       "        vertical-align: top;\n",
       "    }\n",
       "\n",
       "    .dataframe thead th {\n",
       "        text-align: right;\n",
       "    }\n",
       "</style>\n",
       "<table border=\"1\" class=\"dataframe\">\n",
       "  <thead>\n",
       "    <tr style=\"text-align: right;\">\n",
       "      <th>drug_name</th>\n",
       "      <th>BUPARLISIB</th>\n",
       "      <th>CISPLATIN</th>\n",
       "      <th>FLUOROURACIL</th>\n",
       "      <th>GEMCITABINE</th>\n",
       "      <th>PACLITAXEL</th>\n",
       "      <th>TEMOZOLOMIDE</th>\n",
       "    </tr>\n",
       "    <tr>\n",
       "      <th>method</th>\n",
       "      <th></th>\n",
       "      <th></th>\n",
       "      <th></th>\n",
       "      <th></th>\n",
       "      <th></th>\n",
       "      <th></th>\n",
       "    </tr>\n",
       "  </thead>\n",
       "  <tbody>\n",
       "    <tr>\n",
       "      <th>DiffDRP_v7</th>\n",
       "      <td>0.875</td>\n",
       "      <td>0.6058</td>\n",
       "      <td>0.7857</td>\n",
       "      <td>0.5417</td>\n",
       "      <td>0.6875</td>\n",
       "      <td>0.5556</td>\n",
       "    </tr>\n",
       "  </tbody>\n",
       "</table>\n",
       "</div>"
      ],
      "text/plain": [
       "drug_name   BUPARLISIB  CISPLATIN  FLUOROURACIL  GEMCITABINE  PACLITAXEL  \\\n",
       "method                                                                     \n",
       "DiffDRP_v7       0.875     0.6058        0.7857       0.5417      0.6875   \n",
       "\n",
       "drug_name   TEMOZOLOMIDE  \n",
       "method                    \n",
       "DiffDRP_v7        0.5556  "
      ]
     },
     "execution_count": 20,
     "metadata": {},
     "output_type": "execute_result"
    }
   ],
   "source": [
    "res_df1.pivot_table(index=\"method\", values=\"AUROC\", columns=\"drug_name\") # AUROC"
   ]
  },
  {
   "cell_type": "code",
   "execution_count": 21,
   "id": "588b33aa-002c-4ae5-9bd6-f1b8fb4a96e7",
   "metadata": {},
   "outputs": [
    {
     "data": {
      "text/html": [
       "<div>\n",
       "<style scoped>\n",
       "    .dataframe tbody tr th:only-of-type {\n",
       "        vertical-align: middle;\n",
       "    }\n",
       "\n",
       "    .dataframe tbody tr th {\n",
       "        vertical-align: top;\n",
       "    }\n",
       "\n",
       "    .dataframe thead th {\n",
       "        text-align: right;\n",
       "    }\n",
       "</style>\n",
       "<table border=\"1\" class=\"dataframe\">\n",
       "  <thead>\n",
       "    <tr style=\"text-align: right;\">\n",
       "      <th>drug_name</th>\n",
       "      <th>BUPARLISIB</th>\n",
       "      <th>CISPLATIN</th>\n",
       "      <th>FLUOROURACIL</th>\n",
       "      <th>GEMCITABINE</th>\n",
       "      <th>PACLITAXEL</th>\n",
       "      <th>TEMOZOLOMIDE</th>\n",
       "    </tr>\n",
       "    <tr>\n",
       "      <th>method</th>\n",
       "      <th></th>\n",
       "      <th></th>\n",
       "      <th></th>\n",
       "      <th></th>\n",
       "      <th></th>\n",
       "      <th></th>\n",
       "    </tr>\n",
       "  </thead>\n",
       "  <tbody>\n",
       "    <tr>\n",
       "      <th>DiffDRP_v7</th>\n",
       "      <td>0.5</td>\n",
       "      <td>0.9279</td>\n",
       "      <td>0.9038</td>\n",
       "      <td>0.3889</td>\n",
       "      <td>0.9294</td>\n",
       "      <td>0.2527</td>\n",
       "    </tr>\n",
       "  </tbody>\n",
       "</table>\n",
       "</div>"
      ],
      "text/plain": [
       "drug_name   BUPARLISIB  CISPLATIN  FLUOROURACIL  GEMCITABINE  PACLITAXEL  \\\n",
       "method                                                                     \n",
       "DiffDRP_v7         0.5     0.9279        0.9038       0.3889      0.9294   \n",
       "\n",
       "drug_name   TEMOZOLOMIDE  \n",
       "method                    \n",
       "DiffDRP_v7        0.2527  "
      ]
     },
     "execution_count": 21,
     "metadata": {},
     "output_type": "execute_result"
    }
   ],
   "source": [
    "res_df1.pivot_table(index=\"method\", values=\"AUPRC\", columns=\"drug_name\") # AUPRC"
   ]
  },
  {
   "cell_type": "code",
   "execution_count": 22,
   "id": "5022e31a-562e-49aa-b01b-a76ca351bf89",
   "metadata": {},
   "outputs": [
    {
     "data": {
      "text/plain": [
       "drug_name     recist\n",
       "TEMOZOLOMIDE  0         27\n",
       "CISPLATIN     1         26\n",
       "SORAFENIB     0         13\n",
       "BUPARLISIB    0          8\n",
       "GEMCITABINE   0          8\n",
       "PACLITAXEL    1          8\n",
       "FLUOROURACIL  1          7\n",
       "CISPLATIN     0          4\n",
       "FLUOROURACIL  0          4\n",
       "TEMOZOLOMIDE  1          3\n",
       "GEMCITABINE   1          3\n",
       "PACLITAXEL    0          2\n",
       "BUPARLISIB    1          1\n",
       "Name: count, dtype: int64"
      ]
     },
     "execution_count": 22,
     "metadata": {},
     "output_type": "execute_result"
    }
   ],
   "source": [
    "exp2A_fold1[\"test\"][[\"sample_id\", \"drug_name\", \"recist\", \"mappedProject\", \"dataset_name\"]][[\"drug_name\", \"recist\"]].value_counts()"
   ]
  },
  {
   "cell_type": "code",
   "execution_count": 23,
   "id": "00b307d2-43a5-46d3-b045-170204cf4fbd",
   "metadata": {},
   "outputs": [
    {
     "data": {
      "text/html": [
       "<div>\n",
       "<style scoped>\n",
       "    .dataframe tbody tr th:only-of-type {\n",
       "        vertical-align: middle;\n",
       "    }\n",
       "\n",
       "    .dataframe tbody tr th {\n",
       "        vertical-align: top;\n",
       "    }\n",
       "\n",
       "    .dataframe thead th {\n",
       "        text-align: right;\n",
       "    }\n",
       "</style>\n",
       "<table border=\"1\" class=\"dataframe\">\n",
       "  <thead>\n",
       "    <tr style=\"text-align: right;\">\n",
       "      <th></th>\n",
       "      <th>drug_name</th>\n",
       "      <th>AUROC</th>\n",
       "      <th>AUPRC</th>\n",
       "      <th>pearsonr</th>\n",
       "      <th>pearsonr_pval</th>\n",
       "      <th>method</th>\n",
       "      <th>fold</th>\n",
       "    </tr>\n",
       "  </thead>\n",
       "  <tbody>\n",
       "    <tr>\n",
       "      <th>0</th>\n",
       "      <td>BUPARLISIB</td>\n",
       "      <td>0.3750</td>\n",
       "      <td>0.1667</td>\n",
       "      <td>-0.120743</td>\n",
       "      <td>0.756993</td>\n",
       "      <td>DiffDRP_v7</td>\n",
       "      <td>2</td>\n",
       "    </tr>\n",
       "    <tr>\n",
       "      <th>1</th>\n",
       "      <td>CISPLATIN</td>\n",
       "      <td>0.6667</td>\n",
       "      <td>0.8684</td>\n",
       "      <td>0.192412</td>\n",
       "      <td>0.326624</td>\n",
       "      <td>DiffDRP_v7</td>\n",
       "      <td>2</td>\n",
       "    </tr>\n",
       "    <tr>\n",
       "      <th>2</th>\n",
       "      <td>FLUOROURACIL</td>\n",
       "      <td>0.7500</td>\n",
       "      <td>0.9004</td>\n",
       "      <td>0.269771</td>\n",
       "      <td>0.422409</td>\n",
       "      <td>DiffDRP_v7</td>\n",
       "      <td>2</td>\n",
       "    </tr>\n",
       "    <tr>\n",
       "      <th>3</th>\n",
       "      <td>GEMCITABINE</td>\n",
       "      <td>0.6481</td>\n",
       "      <td>0.7193</td>\n",
       "      <td>0.358994</td>\n",
       "      <td>0.188819</td>\n",
       "      <td>DiffDRP_v7</td>\n",
       "      <td>2</td>\n",
       "    </tr>\n",
       "    <tr>\n",
       "      <th>4</th>\n",
       "      <td>PACLITAXEL</td>\n",
       "      <td>0.9167</td>\n",
       "      <td>0.9762</td>\n",
       "      <td>0.767714</td>\n",
       "      <td>0.026128</td>\n",
       "      <td>DiffDRP_v7</td>\n",
       "      <td>2</td>\n",
       "    </tr>\n",
       "    <tr>\n",
       "      <th>5</th>\n",
       "      <td>SORAFENIB</td>\n",
       "      <td>0.0769</td>\n",
       "      <td>0.0769</td>\n",
       "      <td>-0.292309</td>\n",
       "      <td>0.310524</td>\n",
       "      <td>DiffDRP_v7</td>\n",
       "      <td>2</td>\n",
       "    </tr>\n",
       "    <tr>\n",
       "      <th>6</th>\n",
       "      <td>TEMOZOLOMIDE</td>\n",
       "      <td>0.6875</td>\n",
       "      <td>0.2536</td>\n",
       "      <td>0.221448</td>\n",
       "      <td>0.257426</td>\n",
       "      <td>DiffDRP_v7</td>\n",
       "      <td>2</td>\n",
       "    </tr>\n",
       "  </tbody>\n",
       "</table>\n",
       "</div>"
      ],
      "text/plain": [
       "      drug_name   AUROC   AUPRC  pearsonr  pearsonr_pval      method  fold\n",
       "0    BUPARLISIB  0.3750  0.1667 -0.120743       0.756993  DiffDRP_v7     2\n",
       "1     CISPLATIN  0.6667  0.8684  0.192412       0.326624  DiffDRP_v7     2\n",
       "2  FLUOROURACIL  0.7500  0.9004  0.269771       0.422409  DiffDRP_v7     2\n",
       "3   GEMCITABINE  0.6481  0.7193  0.358994       0.188819  DiffDRP_v7     2\n",
       "4    PACLITAXEL  0.9167  0.9762  0.767714       0.026128  DiffDRP_v7     2\n",
       "5     SORAFENIB  0.0769  0.0769 -0.292309       0.310524  DiffDRP_v7     2\n",
       "6  TEMOZOLOMIDE  0.6875  0.2536  0.221448       0.257426  DiffDRP_v7     2"
      ]
     },
     "execution_count": 23,
     "metadata": {},
     "output_type": "execute_result"
    }
   ],
   "source": [
    "# fold 2\n",
    "fold = 2\n",
    "res_df2 = pd.DataFrame()\n",
    "for m in models:\n",
    "    # print(m)\n",
    "    if \"DiffDRP\" not in m:\n",
    "        path = f\"{saved_folder}/{m}/saved_model_annotated_mutations/prediction_patients_val_corr_2A_ALL_fold{fold}.csv\"\n",
    "    else:\n",
    "        path = f\"/data//papers_data/{m}/run_files/saved_model_annotated_mutations/prediction_patients_val_corr_2A_ALL_fold{fold}.csv\"\n",
    "    if os.path.exists(path):\n",
    "        df = pd.read_csv(path, index_col=0)\n",
    "        combined_df = pd.concat([exp2A_fold2[\"test\"][[\"sample_id\", \"drug_name\", \"recist\", \"mappedProject\", \"dataset_name\"]],df], axis=1)\n",
    "        for d in combined_df.drug_name.unique():\n",
    "            if d in [\"FLUOROURACIL\", \"GEMCITABINE\", \"PACLITAXEL\", \"TEMOZOLOMIDE\", \"CISPLATIN\"]:\n",
    "                subset_df = pd.read_csv(f\"/data//papers_data/{m}/run_files/saved_model_annotated_mutations/prediction_patients_val_corr_2A_ALL_fold{fold}_tuned4{d}.csv\")\n",
    "            else:\n",
    "                subset_df = combined_df[combined_df.drug_name == d]\n",
    "            if len(subset_df[\"y_true\"].value_counts()) >= 2: # both classes available\n",
    "                auroc_val = round(roc_auc_score(subset_df[\"y_true\"], subset_df[\"y_pred\"]), 4)\n",
    "                auprc_val = round(average_precision_score(subset_df[\"y_true\"], subset_df[\"y_pred\"]), 4)\n",
    "                pearsonr_val = pearsonr(subset_df[\"y_true\"], subset_df[\"y_pred\"])\n",
    "                # print(f\"Drug Name: {d}\")\n",
    "                # print(f\"AUROC = {auroc_val}\")\n",
    "                # print(f\"AUPRC = {auprc_val}\")\n",
    "                res_dict = {\"drug_name\": d, \"AUROC\": auroc_val, \"AUPRC\": auprc_val, \"pearsonr\": pearsonr_val.statistic, \"pearsonr_pval\": pearsonr_val.pvalue, \"method\": m, \"fold\": fold}\n",
    "                res_df2 = res_df2._append(res_dict, ignore_index=True)\n",
    "res_df2\n",
    "            "
   ]
  },
  {
   "cell_type": "code",
   "execution_count": 24,
   "id": "64c97c18-9de1-410e-9ff5-c2b8ad4b67af",
   "metadata": {},
   "outputs": [
    {
     "data": {
      "text/html": [
       "<div>\n",
       "<style scoped>\n",
       "    .dataframe tbody tr th:only-of-type {\n",
       "        vertical-align: middle;\n",
       "    }\n",
       "\n",
       "    .dataframe tbody tr th {\n",
       "        vertical-align: top;\n",
       "    }\n",
       "\n",
       "    .dataframe thead th {\n",
       "        text-align: right;\n",
       "    }\n",
       "</style>\n",
       "<table border=\"1\" class=\"dataframe\">\n",
       "  <thead>\n",
       "    <tr style=\"text-align: right;\">\n",
       "      <th>drug_name</th>\n",
       "      <th>BUPARLISIB</th>\n",
       "      <th>CISPLATIN</th>\n",
       "      <th>FLUOROURACIL</th>\n",
       "      <th>GEMCITABINE</th>\n",
       "      <th>PACLITAXEL</th>\n",
       "      <th>SORAFENIB</th>\n",
       "      <th>TEMOZOLOMIDE</th>\n",
       "    </tr>\n",
       "    <tr>\n",
       "      <th>method</th>\n",
       "      <th></th>\n",
       "      <th></th>\n",
       "      <th></th>\n",
       "      <th></th>\n",
       "      <th></th>\n",
       "      <th></th>\n",
       "      <th></th>\n",
       "    </tr>\n",
       "  </thead>\n",
       "  <tbody>\n",
       "    <tr>\n",
       "      <th>DiffDRP_v7</th>\n",
       "      <td>0.375</td>\n",
       "      <td>0.6667</td>\n",
       "      <td>0.75</td>\n",
       "      <td>0.6481</td>\n",
       "      <td>0.9167</td>\n",
       "      <td>0.0769</td>\n",
       "      <td>0.6875</td>\n",
       "    </tr>\n",
       "  </tbody>\n",
       "</table>\n",
       "</div>"
      ],
      "text/plain": [
       "drug_name   BUPARLISIB  CISPLATIN  FLUOROURACIL  GEMCITABINE  PACLITAXEL  \\\n",
       "method                                                                     \n",
       "DiffDRP_v7       0.375     0.6667          0.75       0.6481      0.9167   \n",
       "\n",
       "drug_name   SORAFENIB  TEMOZOLOMIDE  \n",
       "method                               \n",
       "DiffDRP_v7     0.0769        0.6875  "
      ]
     },
     "execution_count": 24,
     "metadata": {},
     "output_type": "execute_result"
    }
   ],
   "source": [
    "res_df2.pivot_table(index=\"method\", values=\"AUROC\", columns=\"drug_name\") # AUROC"
   ]
  },
  {
   "cell_type": "code",
   "execution_count": 25,
   "id": "93659373-4a86-468a-bf4c-476e5a857411",
   "metadata": {},
   "outputs": [
    {
     "data": {
      "text/html": [
       "<div>\n",
       "<style scoped>\n",
       "    .dataframe tbody tr th:only-of-type {\n",
       "        vertical-align: middle;\n",
       "    }\n",
       "\n",
       "    .dataframe tbody tr th {\n",
       "        vertical-align: top;\n",
       "    }\n",
       "\n",
       "    .dataframe thead th {\n",
       "        text-align: right;\n",
       "    }\n",
       "</style>\n",
       "<table border=\"1\" class=\"dataframe\">\n",
       "  <thead>\n",
       "    <tr style=\"text-align: right;\">\n",
       "      <th>drug_name</th>\n",
       "      <th>BUPARLISIB</th>\n",
       "      <th>CISPLATIN</th>\n",
       "      <th>FLUOROURACIL</th>\n",
       "      <th>GEMCITABINE</th>\n",
       "      <th>PACLITAXEL</th>\n",
       "      <th>SORAFENIB</th>\n",
       "      <th>TEMOZOLOMIDE</th>\n",
       "    </tr>\n",
       "    <tr>\n",
       "      <th>method</th>\n",
       "      <th></th>\n",
       "      <th></th>\n",
       "      <th></th>\n",
       "      <th></th>\n",
       "      <th></th>\n",
       "      <th></th>\n",
       "      <th></th>\n",
       "    </tr>\n",
       "  </thead>\n",
       "  <tbody>\n",
       "    <tr>\n",
       "      <th>DiffDRP_v7</th>\n",
       "      <td>0.1667</td>\n",
       "      <td>0.8684</td>\n",
       "      <td>0.9004</td>\n",
       "      <td>0.7193</td>\n",
       "      <td>0.9762</td>\n",
       "      <td>0.0769</td>\n",
       "      <td>0.2536</td>\n",
       "    </tr>\n",
       "  </tbody>\n",
       "</table>\n",
       "</div>"
      ],
      "text/plain": [
       "drug_name   BUPARLISIB  CISPLATIN  FLUOROURACIL  GEMCITABINE  PACLITAXEL  \\\n",
       "method                                                                     \n",
       "DiffDRP_v7      0.1667     0.8684        0.9004       0.7193      0.9762   \n",
       "\n",
       "drug_name   SORAFENIB  TEMOZOLOMIDE  \n",
       "method                               \n",
       "DiffDRP_v7     0.0769        0.2536  "
      ]
     },
     "execution_count": 25,
     "metadata": {},
     "output_type": "execute_result"
    }
   ],
   "source": [
    "res_df2.pivot_table(index=\"method\", values=\"AUPRC\", columns=\"drug_name\") # AUPRC"
   ]
  },
  {
   "cell_type": "code",
   "execution_count": 26,
   "id": "10f1e023-fcae-46c5-9ab1-46774ab7dd0d",
   "metadata": {},
   "outputs": [
    {
     "data": {
      "text/plain": [
       "drug_name     recist\n",
       "CISPLATIN     1         24\n",
       "TEMOZOLOMIDE  0         24\n",
       "SORAFENIB     0         13\n",
       "GEMCITABINE   0          9\n",
       "BUPARLISIB    0          8\n",
       "FLUOROURACIL  1          7\n",
       "PACLITAXEL    1          6\n",
       "GEMCITABINE   1          6\n",
       "CISPLATIN     0          4\n",
       "FLUOROURACIL  0          4\n",
       "TEMOZOLOMIDE  1          4\n",
       "PACLITAXEL    0          2\n",
       "BUPARLISIB    1          1\n",
       "SORAFENIB     1          1\n",
       "Name: count, dtype: int64"
      ]
     },
     "execution_count": 26,
     "metadata": {},
     "output_type": "execute_result"
    }
   ],
   "source": [
    "exp2A_fold2[\"test\"][[\"sample_id\", \"drug_name\", \"recist\", \"mappedProject\", \"dataset_name\"]][[\"drug_name\", \"recist\"]].value_counts()"
   ]
  },
  {
   "cell_type": "code",
   "execution_count": 27,
   "id": "80e35ea2-62b3-496c-96aa-5c748097d9f3",
   "metadata": {
    "scrolled": true
   },
   "outputs": [],
   "source": [
    "drug_res_df_auroc = pd.concat([res_df0, res_df1, res_df2]).pivot_table(index=\"method\", values=\"AUROC\", columns=\"drug_name\").reset_index()\n",
    "drug_res_df_auroc.drop([\"BUPARLISIB\", \"SORAFENIB\"], axis=1, inplace=True)"
   ]
  },
  {
   "cell_type": "code",
   "execution_count": 28,
   "id": "304bb96b-ef1b-4301-80b7-a8acd969b45a",
   "metadata": {},
   "outputs": [
    {
     "data": {
      "text/html": [
       "<div>\n",
       "<style scoped>\n",
       "    .dataframe tbody tr th:only-of-type {\n",
       "        vertical-align: middle;\n",
       "    }\n",
       "\n",
       "    .dataframe tbody tr th {\n",
       "        vertical-align: top;\n",
       "    }\n",
       "\n",
       "    .dataframe thead th {\n",
       "        text-align: right;\n",
       "    }\n",
       "</style>\n",
       "<table border=\"1\" class=\"dataframe\">\n",
       "  <thead>\n",
       "    <tr style=\"text-align: right;\">\n",
       "      <th></th>\n",
       "      <th>CISPLATIN</th>\n",
       "      <th>FLUOROURACIL</th>\n",
       "      <th>GEMCITABINE</th>\n",
       "      <th>PACLITAXEL</th>\n",
       "      <th>TEMOZOLOMIDE</th>\n",
       "    </tr>\n",
       "    <tr>\n",
       "      <th>method</th>\n",
       "      <th></th>\n",
       "      <th></th>\n",
       "      <th></th>\n",
       "      <th></th>\n",
       "      <th></th>\n",
       "    </tr>\n",
       "  </thead>\n",
       "  <tbody>\n",
       "    <tr>\n",
       "      <th>DiffDRP_v7</th>\n",
       "      <td>0.6343</td>\n",
       "      <td>0.730933</td>\n",
       "      <td>0.618833</td>\n",
       "      <td>0.772833</td>\n",
       "      <td>0.645133</td>\n",
       "    </tr>\n",
       "    <tr>\n",
       "      <th>CODE-AE</th>\n",
       "      <td>0.6322</td>\n",
       "      <td>0.538100</td>\n",
       "      <td>0.508500</td>\n",
       "      <td>0.361100</td>\n",
       "      <td>0.433167</td>\n",
       "    </tr>\n",
       "  </tbody>\n",
       "</table>\n",
       "</div>"
      ],
      "text/plain": [
       "            CISPLATIN  FLUOROURACIL  GEMCITABINE  PACLITAXEL  TEMOZOLOMIDE\n",
       "method                                                                    \n",
       "DiffDRP_v7     0.6343      0.730933     0.618833    0.772833      0.645133\n",
       "CODE-AE        0.6322      0.538100     0.508500    0.361100      0.433167"
      ]
     },
     "execution_count": 28,
     "metadata": {},
     "output_type": "execute_result"
    }
   ],
   "source": [
    "code_ae_auroc = {\"method\": \"CODE-AE\", \"CISPLATIN\": 0.6322, \"FLUOROURACIL\": 0.5381, \"GEMCITABINE\": 0.5085, \"PACLITAXEL\": 0.3611, \"TEMOZOLOMIDE\": 0.433166667}\n",
    "drug_res_df_auroc = drug_res_df_auroc._append(code_ae_auroc, ignore_index=True)\n",
    "drug_res_df_auroc.set_index(\"method\")"
   ]
  },
  {
   "cell_type": "code",
   "execution_count": 29,
   "id": "16008c6f-c2ba-4f63-8595-b35ace8a86e9",
   "metadata": {},
   "outputs": [
    {
     "name": "stderr",
     "output_type": "stream",
     "text": [
      "/tmp/ipykernel_34863/1292748846.py:1: FutureWarning: The provided callable <function std at 0x7f2a180a7400> is currently using DataFrameGroupBy.std. In a future version of pandas, the provided callable will be used directly. To keep current behavior pass the string \"std\" instead.\n",
      "  pd.concat([res_df0, res_df1, res_df2]).pivot_table(index=\"method\", values=\"AUROC\", columns=\"drug_name\", aggfunc=np.std).reset_index().drop([\"BUPARLISIB\", \"SORAFENIB\"], axis=1)\n"
     ]
    },
    {
     "data": {
      "text/html": [
       "<div>\n",
       "<style scoped>\n",
       "    .dataframe tbody tr th:only-of-type {\n",
       "        vertical-align: middle;\n",
       "    }\n",
       "\n",
       "    .dataframe tbody tr th {\n",
       "        vertical-align: top;\n",
       "    }\n",
       "\n",
       "    .dataframe thead th {\n",
       "        text-align: right;\n",
       "    }\n",
       "</style>\n",
       "<table border=\"1\" class=\"dataframe\">\n",
       "  <thead>\n",
       "    <tr style=\"text-align: right;\">\n",
       "      <th>drug_name</th>\n",
       "      <th>method</th>\n",
       "      <th>CISPLATIN</th>\n",
       "      <th>FLUOROURACIL</th>\n",
       "      <th>GEMCITABINE</th>\n",
       "      <th>PACLITAXEL</th>\n",
       "      <th>TEMOZOLOMIDE</th>\n",
       "    </tr>\n",
       "  </thead>\n",
       "  <tbody>\n",
       "    <tr>\n",
       "      <th>0</th>\n",
       "      <td>DiffDRP_v7</td>\n",
       "      <td>0.030637</td>\n",
       "      <td>0.066386</td>\n",
       "      <td>0.067444</td>\n",
       "      <td>0.125311</td>\n",
       "      <td>0.077575</td>\n",
       "    </tr>\n",
       "  </tbody>\n",
       "</table>\n",
       "</div>"
      ],
      "text/plain": [
       "drug_name      method  CISPLATIN  FLUOROURACIL  GEMCITABINE  PACLITAXEL  \\\n",
       "0          DiffDRP_v7   0.030637      0.066386     0.067444    0.125311   \n",
       "\n",
       "drug_name  TEMOZOLOMIDE  \n",
       "0              0.077575  "
      ]
     },
     "execution_count": 29,
     "metadata": {},
     "output_type": "execute_result"
    }
   ],
   "source": [
    "pd.concat([res_df0, res_df1, res_df2]).pivot_table(index=\"method\", values=\"AUROC\", columns=\"drug_name\", aggfunc=np.std).reset_index().drop([\"BUPARLISIB\", \"SORAFENIB\"], axis=1)"
   ]
  },
  {
   "cell_type": "code",
   "execution_count": 30,
   "id": "3ed494f5-a7b0-4a01-9415-164d306e9ed8",
   "metadata": {},
   "outputs": [],
   "source": [
    "# CODE-AE std AUROC, AUPRC\n",
    "# FU: 0.1606, 0.1435\n",
    "# Gem: 0.0503, 0.0701\n",
    "# Pac: 0.3155, 0.0574\n",
    "# Tem: 0.3123, 0.0929 "
   ]
  },
  {
   "cell_type": "code",
   "execution_count": 31,
   "id": "4f0fa6b5-6133-4a4f-98f0-2a56cca35632",
   "metadata": {},
   "outputs": [],
   "source": [
    "drug_res_df_auprc = pd.concat([res_df0, res_df1, res_df2]).pivot_table(index=\"method\", values=\"AUPRC\", columns=\"drug_name\").reset_index()\n",
    "drug_res_df_auprc.drop([\"BUPARLISIB\", \"SORAFENIB\"], axis=1, inplace=True)"
   ]
  },
  {
   "cell_type": "code",
   "execution_count": 32,
   "id": "470e1689-b9d2-43e7-8915-5098bd8ae228",
   "metadata": {},
   "outputs": [
    {
     "data": {
      "text/html": [
       "<div>\n",
       "<style scoped>\n",
       "    .dataframe tbody tr th:only-of-type {\n",
       "        vertical-align: middle;\n",
       "    }\n",
       "\n",
       "    .dataframe tbody tr th {\n",
       "        vertical-align: top;\n",
       "    }\n",
       "\n",
       "    .dataframe thead th {\n",
       "        text-align: right;\n",
       "    }\n",
       "</style>\n",
       "<table border=\"1\" class=\"dataframe\">\n",
       "  <thead>\n",
       "    <tr style=\"text-align: right;\">\n",
       "      <th></th>\n",
       "      <th>CISPLATIN</th>\n",
       "      <th>FLUOROURACIL</th>\n",
       "      <th>GEMCITABINE</th>\n",
       "      <th>PACLITAXEL</th>\n",
       "      <th>TEMOZOLOMIDE</th>\n",
       "    </tr>\n",
       "    <tr>\n",
       "      <th>method</th>\n",
       "      <th></th>\n",
       "      <th></th>\n",
       "      <th></th>\n",
       "      <th></th>\n",
       "      <th></th>\n",
       "    </tr>\n",
       "  </thead>\n",
       "  <tbody>\n",
       "    <tr>\n",
       "      <th>DiffDRP_v7</th>\n",
       "      <td>0.909333</td>\n",
       "      <td>0.848267</td>\n",
       "      <td>0.587433</td>\n",
       "      <td>0.955767</td>\n",
       "      <td>0.253467</td>\n",
       "    </tr>\n",
       "    <tr>\n",
       "      <th>CODE-AE</th>\n",
       "      <td>0.905900</td>\n",
       "      <td>0.666500</td>\n",
       "      <td>0.473500</td>\n",
       "      <td>0.820800</td>\n",
       "      <td>0.175633</td>\n",
       "    </tr>\n",
       "  </tbody>\n",
       "</table>\n",
       "</div>"
      ],
      "text/plain": [
       "            CISPLATIN  FLUOROURACIL  GEMCITABINE  PACLITAXEL  TEMOZOLOMIDE\n",
       "method                                                                    \n",
       "DiffDRP_v7   0.909333      0.848267     0.587433    0.955767      0.253467\n",
       "CODE-AE      0.905900      0.666500     0.473500    0.820800      0.175633"
      ]
     },
     "execution_count": 32,
     "metadata": {},
     "output_type": "execute_result"
    }
   ],
   "source": [
    "code_ae_auprc = {\"method\": \"CODE-AE\", \"CISPLATIN\": 0.9059, \"FLUOROURACIL\": 0.6665, \"GEMCITABINE\": 0.4735, \"PACLITAXEL\": 0.8208, \"TEMOZOLOMIDE\": 0.1756333}\n",
    "drug_res_df_auprc = drug_res_df_auprc._append(code_ae_auprc, ignore_index=True)\n",
    "drug_res_df_auprc.set_index(\"method\")"
   ]
  },
  {
   "cell_type": "code",
   "execution_count": 33,
   "id": "b6de4901-a32d-48d3-9eaa-6ec287463fbb",
   "metadata": {},
   "outputs": [
    {
     "name": "stderr",
     "output_type": "stream",
     "text": [
      "/tmp/ipykernel_34863/245415605.py:1: FutureWarning: The provided callable <function std at 0x7f2a180a7400> is currently using DataFrameGroupBy.std. In a future version of pandas, the provided callable will be used directly. To keep current behavior pass the string \"std\" instead.\n",
      "  pd.concat([res_df0, res_df1, res_df2]).pivot_table(index=\"method\", values=\"AUPRC\", columns=\"drug_name\", aggfunc=np.std).reset_index().drop([\"BUPARLISIB\", \"SORAFENIB\"], axis=1)\n"
     ]
    },
    {
     "data": {
      "text/html": [
       "<div>\n",
       "<style scoped>\n",
       "    .dataframe tbody tr th:only-of-type {\n",
       "        vertical-align: middle;\n",
       "    }\n",
       "\n",
       "    .dataframe tbody tr th {\n",
       "        vertical-align: top;\n",
       "    }\n",
       "\n",
       "    .dataframe thead th {\n",
       "        text-align: right;\n",
       "    }\n",
       "</style>\n",
       "<table border=\"1\" class=\"dataframe\">\n",
       "  <thead>\n",
       "    <tr style=\"text-align: right;\">\n",
       "      <th>drug_name</th>\n",
       "      <th>method</th>\n",
       "      <th>CISPLATIN</th>\n",
       "      <th>FLUOROURACIL</th>\n",
       "      <th>GEMCITABINE</th>\n",
       "      <th>PACLITAXEL</th>\n",
       "      <th>TEMOZOLOMIDE</th>\n",
       "    </tr>\n",
       "  </thead>\n",
       "  <tbody>\n",
       "    <tr>\n",
       "      <th>0</th>\n",
       "      <td>DiffDRP_v7</td>\n",
       "      <td>0.0355</td>\n",
       "      <td>0.093258</td>\n",
       "      <td>0.174998</td>\n",
       "      <td>0.023958</td>\n",
       "      <td>0.000709</td>\n",
       "    </tr>\n",
       "  </tbody>\n",
       "</table>\n",
       "</div>"
      ],
      "text/plain": [
       "drug_name      method  CISPLATIN  FLUOROURACIL  GEMCITABINE  PACLITAXEL  \\\n",
       "0          DiffDRP_v7     0.0355      0.093258     0.174998    0.023958   \n",
       "\n",
       "drug_name  TEMOZOLOMIDE  \n",
       "0              0.000709  "
      ]
     },
     "execution_count": 33,
     "metadata": {},
     "output_type": "execute_result"
    }
   ],
   "source": [
    "pd.concat([res_df0, res_df1, res_df2]).pivot_table(index=\"method\", values=\"AUPRC\", columns=\"drug_name\", aggfunc=np.std).reset_index().drop([\"BUPARLISIB\", \"SORAFENIB\"], axis=1)"
   ]
  },
  {
   "cell_type": "code",
   "execution_count": 33,
   "id": "d975e2c3-bb97-4983-af12-51568536995a",
   "metadata": {},
   "outputs": [
    {
     "data": {
      "text/html": [
       "<div>\n",
       "<style scoped>\n",
       "    .dataframe tbody tr th:only-of-type {\n",
       "        vertical-align: middle;\n",
       "    }\n",
       "\n",
       "    .dataframe tbody tr th {\n",
       "        vertical-align: top;\n",
       "    }\n",
       "\n",
       "    .dataframe thead th {\n",
       "        text-align: right;\n",
       "    }\n",
       "</style>\n",
       "<table border=\"1\" class=\"dataframe\">\n",
       "  <thead>\n",
       "    <tr style=\"text-align: right;\">\n",
       "      <th>drug_name</th>\n",
       "      <th>CISPLATIN</th>\n",
       "      <th>FLUOROURACIL</th>\n",
       "      <th>GEMCITABINE</th>\n",
       "      <th>PACLITAXEL</th>\n",
       "      <th>TEMOZOLOMIDE</th>\n",
       "    </tr>\n",
       "    <tr>\n",
       "      <th>method</th>\n",
       "      <th></th>\n",
       "      <th></th>\n",
       "      <th></th>\n",
       "      <th></th>\n",
       "      <th></th>\n",
       "    </tr>\n",
       "  </thead>\n",
       "  <tbody>\n",
       "    <tr>\n",
       "      <th>DiffDRP_v7</th>\n",
       "      <td>0.083155</td>\n",
       "      <td>0.358669</td>\n",
       "      <td>0.264388</td>\n",
       "      <td>0.305718</td>\n",
       "      <td>0.167995</td>\n",
       "    </tr>\n",
       "  </tbody>\n",
       "</table>\n",
       "</div>"
      ],
      "text/plain": [
       "drug_name   CISPLATIN  FLUOROURACIL  GEMCITABINE  PACLITAXEL  TEMOZOLOMIDE\n",
       "method                                                                    \n",
       "DiffDRP_v7   0.083155      0.358669     0.264388    0.305718      0.167995"
      ]
     },
     "execution_count": 33,
     "metadata": {},
     "output_type": "execute_result"
    }
   ],
   "source": [
    "pd.concat([res_df0, res_df1, res_df2]).pivot_table(index=\"method\", values=\"pearsonr\", columns=\"drug_name\").drop([\"BUPARLISIB\", \"SORAFENIB\"], axis=1)"
   ]
  },
  {
   "cell_type": "code",
   "execution_count": null,
   "id": "96fe35c8-b63f-4548-8e99-cd859ca00c40",
   "metadata": {},
   "outputs": [],
   "source": []
  }
 ],
 "metadata": {
  "kernelspec": {
   "display_name": "Python [conda env:systematic_assessment] *",
   "language": "python",
   "name": "conda-env-systematic_assessment-py"
  },
  "language_info": {
   "codemirror_mode": {
    "name": "ipython",
    "version": 3
   },
   "file_extension": ".py",
   "mimetype": "text/x-python",
   "name": "python",
   "nbconvert_exporter": "python",
   "pygments_lexer": "ipython3",
   "version": "3.10.14"
  }
 },
 "nbformat": 4,
 "nbformat_minor": 5
}
