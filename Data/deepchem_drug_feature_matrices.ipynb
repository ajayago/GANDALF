{
 "cells": [
  {
   "cell_type": "markdown",
   "metadata": {},
   "source": [
    "This notebook creates feature matrices for drugs from SMILES strings.\n",
    "\n",
    "Feature matrices are obtained using the deepchem library - use conda env deepchem-test\n",
    "\n",
    "**Setup instructions:**  https://deepchem.readthedocs.io/en/latest/get_started/installation.html#jupyter-notebook\n",
    "\n",
    "Steps as in https://stackoverflow.com/questions/70459042/convert-a-smiles-dataset-to-graph"
   ]
  },
  {
   "cell_type": "code",
   "execution_count": 14,
   "metadata": {},
   "outputs": [],
   "source": [
    "import pandas as pd\n",
    "import deepchem as dc\n",
    "import pickle"
   ]
  },
  {
   "cell_type": "code",
   "execution_count": 4,
   "metadata": {},
   "outputs": [],
   "source": [
    "featurizer = dc.feat.MolGraphConvFeaturizer()"
   ]
  },
  {
   "cell_type": "code",
   "execution_count": 5,
   "metadata": {},
   "outputs": [
    {
     "data": {
      "text/html": [
       "<div>\n",
       "<style scoped>\n",
       "    .dataframe tbody tr th:only-of-type {\n",
       "        vertical-align: middle;\n",
       "    }\n",
       "\n",
       "    .dataframe tbody tr th {\n",
       "        vertical-align: top;\n",
       "    }\n",
       "\n",
       "    .dataframe thead th {\n",
       "        text-align: right;\n",
       "    }\n",
       "</style>\n",
       "<table border=\"1\" class=\"dataframe\">\n",
       "  <thead>\n",
       "    <tr style=\"text-align: right;\">\n",
       "      <th></th>\n",
       "      <th>1</th>\n",
       "    </tr>\n",
       "    <tr>\n",
       "      <th>0</th>\n",
       "      <th></th>\n",
       "    </tr>\n",
       "  </thead>\n",
       "  <tbody>\n",
       "    <tr>\n",
       "      <th>JW-7-24-1</th>\n",
       "      <td>COC1=CC(=CC(=C1)C2=CC3=C4C(=CN=C3C=C2)C=CC(=O)...</td>\n",
       "    </tr>\n",
       "    <tr>\n",
       "      <th>KIN001-260</th>\n",
       "      <td>C1CC1COC2=CC=CC(=O)C2=C3C=C(C(=C(N3)N)C#N)C4CC...</td>\n",
       "    </tr>\n",
       "    <tr>\n",
       "      <th>NSC-87877</th>\n",
       "      <td>C1=CC2=C(C(=O)C(=NNC3=CC4=C(C=C3)C=C(C=C4)S(=O...</td>\n",
       "    </tr>\n",
       "    <tr>\n",
       "      <th>GNE-317</th>\n",
       "      <td>CC1=C(SC2=C1N=C(N=C2N3CCOCC3)C4=CN=C(N=C4)N)C5...</td>\n",
       "    </tr>\n",
       "    <tr>\n",
       "      <th>NAVITOCLAX</th>\n",
       "      <td>CC1(CCC(=C(C1)CN2CCN(CC2)C3=CC=C(C=C3)C(=O)NS(...</td>\n",
       "    </tr>\n",
       "    <tr>\n",
       "      <th>...</th>\n",
       "      <td>...</td>\n",
       "    </tr>\n",
       "    <tr>\n",
       "      <th>SB590885</th>\n",
       "      <td>O=NC1=c2cc/c(=c/3\\nc([nH]c3=c3cc[nH]cc3)c3ccc(...</td>\n",
       "    </tr>\n",
       "    <tr>\n",
       "      <th>STAUROSPORINE</th>\n",
       "      <td>[H][C@]1(C[C@@]2([H])O[C@](C)(N3C4=CC=CC=C4C4=...</td>\n",
       "    </tr>\n",
       "    <tr>\n",
       "      <th>TW 37</th>\n",
       "      <td>CC(C)C1=CC=CC=C1CC1=C(O)C(O)=C(O)C(=C1)C(=O)NC...</td>\n",
       "    </tr>\n",
       "    <tr>\n",
       "      <th>ULIXERTINIB</th>\n",
       "      <td>[H]N([C@H](CO)C1=CC(Cl)=CC=C1)C(=O)C1=CC(=CN1[...</td>\n",
       "    </tr>\n",
       "    <tr>\n",
       "      <th>ZM447439</th>\n",
       "      <td>COc1cc2c(ncnc2cc1OCCCN1CCOCC1)Nc1ccc(cc1)NC(=O...</td>\n",
       "    </tr>\n",
       "  </tbody>\n",
       "</table>\n",
       "<p>479 rows × 1 columns</p>\n",
       "</div>"
      ],
      "text/plain": [
       "                                                               1\n",
       "0                                                               \n",
       "JW-7-24-1      COC1=CC(=CC(=C1)C2=CC3=C4C(=CN=C3C=C2)C=CC(=O)...\n",
       "KIN001-260     C1CC1COC2=CC=CC(=O)C2=C3C=C(C(=C(N3)N)C#N)C4CC...\n",
       "NSC-87877      C1=CC2=C(C(=O)C(=NNC3=CC4=C(C=C3)C=C(C=C4)S(=O...\n",
       "GNE-317        CC1=C(SC2=C1N=C(N=C2N3CCOCC3)C4=CN=C(N=C4)N)C5...\n",
       "NAVITOCLAX     CC1(CCC(=C(C1)CN2CCN(CC2)C3=CC=C(C=C3)C(=O)NS(...\n",
       "...                                                          ...\n",
       "SB590885       O=NC1=c2cc/c(=c/3\\nc([nH]c3=c3cc[nH]cc3)c3ccc(...\n",
       "STAUROSPORINE  [H][C@]1(C[C@@]2([H])O[C@](C)(N3C4=CC=CC=C4C4=...\n",
       "TW 37          CC(C)C1=CC=CC=C1CC1=C(O)C(O)=C(O)C(=C1)C(=O)NC...\n",
       "ULIXERTINIB    [H]N([C@H](CO)C1=CC(Cl)=CC=C1)C(=O)C1=CC(=CN1[...\n",
       "ZM447439       COc1cc2c(ncnc2cc1OCCCN1CCOCC1)Nc1ccc(cc1)NC(=O...\n",
       "\n",
       "[479 rows x 1 columns]"
      ]
     },
     "execution_count": 5,
     "metadata": {},
     "output_type": "execute_result"
    }
   ],
   "source": [
    "# Convert drug SMILES into feature matrices per graph\n",
    "drug_smiles = pd.read_csv(\"/data/ajayago/druid/data/raw/drug_smiles.csv\", header=None, index_col=0)\n",
    "drug_smiles"
   ]
  },
  {
   "cell_type": "code",
   "execution_count": 10,
   "metadata": {},
   "outputs": [],
   "source": [
    "feature_matrices_drugs = {}\n",
    "for d in drug_smiles.index:\n",
    "    feature_matrices_drugs[d] = featurizer.featurize([drug_smiles.loc[d][1]])[0].node_features"
   ]
  },
  {
   "cell_type": "code",
   "execution_count": 11,
   "metadata": {},
   "outputs": [
    {
     "data": {
      "text/plain": [
       "479"
      ]
     },
     "execution_count": 11,
     "metadata": {},
     "output_type": "execute_result"
    }
   ],
   "source": [
    "len(feature_matrices_drugs)"
   ]
  },
  {
   "cell_type": "code",
   "execution_count": 13,
   "metadata": {},
   "outputs": [
    {
     "data": {
      "text/plain": [
       "(5, 30)"
      ]
     },
     "execution_count": 13,
     "metadata": {},
     "output_type": "execute_result"
    }
   ],
   "source": [
    "feature_matrices_drugs[\"CISPLATIN\"].shape"
   ]
  },
  {
   "cell_type": "code",
   "execution_count": 15,
   "metadata": {},
   "outputs": [],
   "source": [
    "with open(\"/data/ajayago/papers_data/systematic_assessment/raw/metadata/drug_feature_matrices.pkl\", \"wb\") as f:\n",
    "    pickle.dump(feature_matrices_drugs, f)"
   ]
  },
  {
   "cell_type": "code",
   "execution_count": null,
   "metadata": {},
   "outputs": [],
   "source": []
  }
 ],
 "metadata": {
  "kernelspec": {
   "display_name": "deepchem-test",
   "language": "python",
   "name": "python3"
  },
  "language_info": {
   "codemirror_mode": {
    "name": "ipython",
    "version": 3
   },
   "file_extension": ".py",
   "mimetype": "text/x-python",
   "name": "python",
   "nbconvert_exporter": "python",
   "pygments_lexer": "ipython3",
   "version": "3.12.3"
  }
 },
 "nbformat": 4,
 "nbformat_minor": 2
}
